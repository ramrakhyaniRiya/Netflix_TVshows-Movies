{
  "nbformat": 4,
  "nbformat_minor": 0,
  "metadata": {
    "colab": {
      "name": "Netflix TV Shows and Movies.ipynb",
      "provenance": [],
      "collapsed_sections": [],
      "authorship_tag": "ABX9TyM2OFyOHYQxT8tYyKB5YjB+",
      "include_colab_link": true
    },
    "kernelspec": {
      "name": "python3",
      "display_name": "Python 3"
    },
    "language_info": {
      "name": "python"
    }
  },
  "cells": [
    {
      "cell_type": "markdown",
      "metadata": {
        "id": "view-in-github",
        "colab_type": "text"
      },
      "source": [
        "<a href=\"https://colab.research.google.com/github/ramrakhyaniRiya/Netflix_TVshows-Movies/blob/main/Netflix_TV_Shows_and_Movies.ipynb\" target=\"_parent\"><img src=\"https://colab.research.google.com/assets/colab-badge.svg\" alt=\"Open In Colab\"/></a>"
      ]
    },
    {
      "cell_type": "markdown",
      "source": [
        "## Netflix - TV Shows and Movies"
      ],
      "metadata": {
        "id": "JHosqYDyqRMT"
      }
    },
    {
      "cell_type": "markdown",
      "source": [
        "Netflix is a subscription-based streaming service that allows our members to watch TV shows and movies without commercials on an internet-connected device. You can also download TV shows and movies to your iOS, Android, or Windows 10 device and watch without an internet connection."
      ],
      "metadata": {
        "id": "fwm8B2Lgs1Ed"
      }
    },
    {
      "cell_type": "markdown",
      "source": [
        "# **TASKS**"
      ],
      "metadata": {
        "id": "dvApR7VDs06_"
      }
    },
    {
      "cell_type": "markdown",
      "source": [
        "Developing a content-based recommender system using the genres and/or descriptions.\n",
        "\n",
        "Identifying the main content available on the streaming.\n",
        "\n",
        "Network analysis on the cast of the titles.\n",
        "\n",
        "Exploratory data analysis to find interesting insights."
      ],
      "metadata": {
        "id": "rNOt28Ajs0ts"
      }
    },
    {
      "cell_type": "markdown",
      "source": [
        "# **IMPORTING LIBRARIES **"
      ],
      "metadata": {
        "id": "HdquJuOKtRSr"
      }
    },
    {
      "cell_type": "code",
      "execution_count": 3,
      "metadata": {
        "id": "Z0GqjeO1qHjF"
      },
      "outputs": [],
      "source": [
        "import numpy as np\n",
        "import pandas as pd\n",
        "import matplotlib.pyplot as plt\n",
        "\n",
        "import seaborn as sns"
      ]
    },
    {
      "cell_type": "markdown",
      "source": [
        "# **IMPORTING DATASET **"
      ],
      "metadata": {
        "id": "1dlcSHrxYOnN"
      }
    },
    {
      "cell_type": "code",
      "source": [
        "df = pd.read_csv(\"/content/titles.csv\")"
      ],
      "metadata": {
        "id": "q_UpgMortw8d"
      },
      "execution_count": 5,
      "outputs": []
    },
    {
      "cell_type": "markdown",
      "source": [
        "# ***Description of the dataset***"
      ],
      "metadata": {
        "id": "qatnGVw3dlsu"
      }
    },
    {
      "cell_type": "markdown",
      "source": [
        "ID: The title ID on JustWatch.\n",
        "\n",
        "title: The name of the title.\n",
        "\n",
        "show type: TV show or movie.\n",
        "\n",
        "description: A brief description.\n",
        "\n",
        "release year: The release year.\n",
        "\n",
        "age certification: The age certification.\n",
        "\n",
        "runtime: The length of the episode (SHOW) or movie.\n",
        "\n",
        "genres: A list of genres.\n",
        "\n",
        "production countries: A list of countries that produced the title.\n",
        "\n",
        "seasons: Number of seasons if it's a SHOW.\n",
        "\n",
        "IMDB ID: The title ID on IMDB.\n",
        "\n",
        "IMDB Score: Score on IMDB.\n",
        "\n",
        "IMDB Votes: Votes on IMDB.\n",
        "\n",
        "TMDB Popularity: Popularity on TMDB.\n",
        "\n",
        "TMDB Score: Score on TMDB."
      ],
      "metadata": {
        "id": "sXXxYq-FdlD1"
      }
    },
    {
      "cell_type": "markdown",
      "source": [
        "# *BASIC OPERATIONS*"
      ],
      "metadata": {
        "id": "aTd39-m-YXt0"
      }
    },
    {
      "cell_type": "code",
      "source": [
        "df.head()"
      ],
      "metadata": {
        "colab": {
          "base_uri": "https://localhost:8080/",
          "height": 600
        },
        "id": "o1BhL-aYuPpO",
        "outputId": "3b6af7cd-300d-48c9-adf7-104844469748"
      },
      "execution_count": 6,
      "outputs": [
        {
          "output_type": "execute_result",
          "data": {
            "text/plain": [
              "         id                                title   type  \\\n",
              "0  ts300399  Five Came Back: The Reference Films   SHOW   \n",
              "1   tm84618                          Taxi Driver  MOVIE   \n",
              "2  tm127384      Monty Python and the Holy Grail  MOVIE   \n",
              "3   tm70993                        Life of Brian  MOVIE   \n",
              "4  tm190788                         The Exorcist  MOVIE   \n",
              "\n",
              "                                         description  release_year  \\\n",
              "0  This collection includes 12 World War II-era p...          1945   \n",
              "1  A mentally unstable Vietnam War veteran works ...          1976   \n",
              "2  King Arthur, accompanied by his squire, recrui...          1975   \n",
              "3  Brian Cohen is an average young Jewish man, bu...          1979   \n",
              "4  12-year-old Regan MacNeil begins to adapt an e...          1973   \n",
              "\n",
              "  age_certification  runtime                 genres production_countries  \\\n",
              "0             TV-MA       48      ['documentation']               ['US']   \n",
              "1                 R      113     ['crime', 'drama']               ['US']   \n",
              "2                PG       91  ['comedy', 'fantasy']               ['GB']   \n",
              "3                 R       94             ['comedy']               ['GB']   \n",
              "4                 R      133             ['horror']               ['US']   \n",
              "\n",
              "   seasons    imdb_id  imdb_score  imdb_votes  tmdb_popularity  tmdb_score  \n",
              "0      1.0        NaN         NaN         NaN            0.600         NaN  \n",
              "1      NaN  tt0075314         8.3    795222.0           27.612         8.2  \n",
              "2      NaN  tt0071853         8.2    530877.0           18.216         7.8  \n",
              "3      NaN  tt0079470         8.0    392419.0           17.505         7.8  \n",
              "4      NaN  tt0070047         8.1    391942.0           95.337         7.7  "
            ],
            "text/html": [
              "\n",
              "  <div id=\"df-68a99f16-940a-421a-9fc1-93a2fb6f7c15\">\n",
              "    <div class=\"colab-df-container\">\n",
              "      <div>\n",
              "<style scoped>\n",
              "    .dataframe tbody tr th:only-of-type {\n",
              "        vertical-align: middle;\n",
              "    }\n",
              "\n",
              "    .dataframe tbody tr th {\n",
              "        vertical-align: top;\n",
              "    }\n",
              "\n",
              "    .dataframe thead th {\n",
              "        text-align: right;\n",
              "    }\n",
              "</style>\n",
              "<table border=\"1\" class=\"dataframe\">\n",
              "  <thead>\n",
              "    <tr style=\"text-align: right;\">\n",
              "      <th></th>\n",
              "      <th>id</th>\n",
              "      <th>title</th>\n",
              "      <th>type</th>\n",
              "      <th>description</th>\n",
              "      <th>release_year</th>\n",
              "      <th>age_certification</th>\n",
              "      <th>runtime</th>\n",
              "      <th>genres</th>\n",
              "      <th>production_countries</th>\n",
              "      <th>seasons</th>\n",
              "      <th>imdb_id</th>\n",
              "      <th>imdb_score</th>\n",
              "      <th>imdb_votes</th>\n",
              "      <th>tmdb_popularity</th>\n",
              "      <th>tmdb_score</th>\n",
              "    </tr>\n",
              "  </thead>\n",
              "  <tbody>\n",
              "    <tr>\n",
              "      <th>0</th>\n",
              "      <td>ts300399</td>\n",
              "      <td>Five Came Back: The Reference Films</td>\n",
              "      <td>SHOW</td>\n",
              "      <td>This collection includes 12 World War II-era p...</td>\n",
              "      <td>1945</td>\n",
              "      <td>TV-MA</td>\n",
              "      <td>48</td>\n",
              "      <td>['documentation']</td>\n",
              "      <td>['US']</td>\n",
              "      <td>1.0</td>\n",
              "      <td>NaN</td>\n",
              "      <td>NaN</td>\n",
              "      <td>NaN</td>\n",
              "      <td>0.600</td>\n",
              "      <td>NaN</td>\n",
              "    </tr>\n",
              "    <tr>\n",
              "      <th>1</th>\n",
              "      <td>tm84618</td>\n",
              "      <td>Taxi Driver</td>\n",
              "      <td>MOVIE</td>\n",
              "      <td>A mentally unstable Vietnam War veteran works ...</td>\n",
              "      <td>1976</td>\n",
              "      <td>R</td>\n",
              "      <td>113</td>\n",
              "      <td>['crime', 'drama']</td>\n",
              "      <td>['US']</td>\n",
              "      <td>NaN</td>\n",
              "      <td>tt0075314</td>\n",
              "      <td>8.3</td>\n",
              "      <td>795222.0</td>\n",
              "      <td>27.612</td>\n",
              "      <td>8.2</td>\n",
              "    </tr>\n",
              "    <tr>\n",
              "      <th>2</th>\n",
              "      <td>tm127384</td>\n",
              "      <td>Monty Python and the Holy Grail</td>\n",
              "      <td>MOVIE</td>\n",
              "      <td>King Arthur, accompanied by his squire, recrui...</td>\n",
              "      <td>1975</td>\n",
              "      <td>PG</td>\n",
              "      <td>91</td>\n",
              "      <td>['comedy', 'fantasy']</td>\n",
              "      <td>['GB']</td>\n",
              "      <td>NaN</td>\n",
              "      <td>tt0071853</td>\n",
              "      <td>8.2</td>\n",
              "      <td>530877.0</td>\n",
              "      <td>18.216</td>\n",
              "      <td>7.8</td>\n",
              "    </tr>\n",
              "    <tr>\n",
              "      <th>3</th>\n",
              "      <td>tm70993</td>\n",
              "      <td>Life of Brian</td>\n",
              "      <td>MOVIE</td>\n",
              "      <td>Brian Cohen is an average young Jewish man, bu...</td>\n",
              "      <td>1979</td>\n",
              "      <td>R</td>\n",
              "      <td>94</td>\n",
              "      <td>['comedy']</td>\n",
              "      <td>['GB']</td>\n",
              "      <td>NaN</td>\n",
              "      <td>tt0079470</td>\n",
              "      <td>8.0</td>\n",
              "      <td>392419.0</td>\n",
              "      <td>17.505</td>\n",
              "      <td>7.8</td>\n",
              "    </tr>\n",
              "    <tr>\n",
              "      <th>4</th>\n",
              "      <td>tm190788</td>\n",
              "      <td>The Exorcist</td>\n",
              "      <td>MOVIE</td>\n",
              "      <td>12-year-old Regan MacNeil begins to adapt an e...</td>\n",
              "      <td>1973</td>\n",
              "      <td>R</td>\n",
              "      <td>133</td>\n",
              "      <td>['horror']</td>\n",
              "      <td>['US']</td>\n",
              "      <td>NaN</td>\n",
              "      <td>tt0070047</td>\n",
              "      <td>8.1</td>\n",
              "      <td>391942.0</td>\n",
              "      <td>95.337</td>\n",
              "      <td>7.7</td>\n",
              "    </tr>\n",
              "  </tbody>\n",
              "</table>\n",
              "</div>\n",
              "      <button class=\"colab-df-convert\" onclick=\"convertToInteractive('df-68a99f16-940a-421a-9fc1-93a2fb6f7c15')\"\n",
              "              title=\"Convert this dataframe to an interactive table.\"\n",
              "              style=\"display:none;\">\n",
              "        \n",
              "  <svg xmlns=\"http://www.w3.org/2000/svg\" height=\"24px\"viewBox=\"0 0 24 24\"\n",
              "       width=\"24px\">\n",
              "    <path d=\"M0 0h24v24H0V0z\" fill=\"none\"/>\n",
              "    <path d=\"M18.56 5.44l.94 2.06.94-2.06 2.06-.94-2.06-.94-.94-2.06-.94 2.06-2.06.94zm-11 1L8.5 8.5l.94-2.06 2.06-.94-2.06-.94L8.5 2.5l-.94 2.06-2.06.94zm10 10l.94 2.06.94-2.06 2.06-.94-2.06-.94-.94-2.06-.94 2.06-2.06.94z\"/><path d=\"M17.41 7.96l-1.37-1.37c-.4-.4-.92-.59-1.43-.59-.52 0-1.04.2-1.43.59L10.3 9.45l-7.72 7.72c-.78.78-.78 2.05 0 2.83L4 21.41c.39.39.9.59 1.41.59.51 0 1.02-.2 1.41-.59l7.78-7.78 2.81-2.81c.8-.78.8-2.07 0-2.86zM5.41 20L4 18.59l7.72-7.72 1.47 1.35L5.41 20z\"/>\n",
              "  </svg>\n",
              "      </button>\n",
              "      \n",
              "  <style>\n",
              "    .colab-df-container {\n",
              "      display:flex;\n",
              "      flex-wrap:wrap;\n",
              "      gap: 12px;\n",
              "    }\n",
              "\n",
              "    .colab-df-convert {\n",
              "      background-color: #E8F0FE;\n",
              "      border: none;\n",
              "      border-radius: 50%;\n",
              "      cursor: pointer;\n",
              "      display: none;\n",
              "      fill: #1967D2;\n",
              "      height: 32px;\n",
              "      padding: 0 0 0 0;\n",
              "      width: 32px;\n",
              "    }\n",
              "\n",
              "    .colab-df-convert:hover {\n",
              "      background-color: #E2EBFA;\n",
              "      box-shadow: 0px 1px 2px rgba(60, 64, 67, 0.3), 0px 1px 3px 1px rgba(60, 64, 67, 0.15);\n",
              "      fill: #174EA6;\n",
              "    }\n",
              "\n",
              "    [theme=dark] .colab-df-convert {\n",
              "      background-color: #3B4455;\n",
              "      fill: #D2E3FC;\n",
              "    }\n",
              "\n",
              "    [theme=dark] .colab-df-convert:hover {\n",
              "      background-color: #434B5C;\n",
              "      box-shadow: 0px 1px 3px 1px rgba(0, 0, 0, 0.15);\n",
              "      filter: drop-shadow(0px 1px 2px rgba(0, 0, 0, 0.3));\n",
              "      fill: #FFFFFF;\n",
              "    }\n",
              "  </style>\n",
              "\n",
              "      <script>\n",
              "        const buttonEl =\n",
              "          document.querySelector('#df-68a99f16-940a-421a-9fc1-93a2fb6f7c15 button.colab-df-convert');\n",
              "        buttonEl.style.display =\n",
              "          google.colab.kernel.accessAllowed ? 'block' : 'none';\n",
              "\n",
              "        async function convertToInteractive(key) {\n",
              "          const element = document.querySelector('#df-68a99f16-940a-421a-9fc1-93a2fb6f7c15');\n",
              "          const dataTable =\n",
              "            await google.colab.kernel.invokeFunction('convertToInteractive',\n",
              "                                                     [key], {});\n",
              "          if (!dataTable) return;\n",
              "\n",
              "          const docLinkHtml = 'Like what you see? Visit the ' +\n",
              "            '<a target=\"_blank\" href=https://colab.research.google.com/notebooks/data_table.ipynb>data table notebook</a>'\n",
              "            + ' to learn more about interactive tables.';\n",
              "          element.innerHTML = '';\n",
              "          dataTable['output_type'] = 'display_data';\n",
              "          await google.colab.output.renderOutput(dataTable, element);\n",
              "          const docLink = document.createElement('div');\n",
              "          docLink.innerHTML = docLinkHtml;\n",
              "          element.appendChild(docLink);\n",
              "        }\n",
              "      </script>\n",
              "    </div>\n",
              "  </div>\n",
              "  "
            ]
          },
          "metadata": {},
          "execution_count": 6
        }
      ]
    },
    {
      "cell_type": "code",
      "source": [
        "df.tail()"
      ],
      "metadata": {
        "colab": {
          "base_uri": "https://localhost:8080/",
          "height": 600
        },
        "id": "Eh65iW70uRsv",
        "outputId": "e33cab87-8c23-411f-8ae4-aabe9be88536"
      },
      "execution_count": 7,
      "outputs": [
        {
          "output_type": "execute_result",
          "data": {
            "text/plain": [
              "             id                               title   type  \\\n",
              "5801  tm1014599                           Fine Wine  MOVIE   \n",
              "5802  tm1108171                      Edis Starlight  MOVIE   \n",
              "5803  tm1045018                               Clash  MOVIE   \n",
              "5804  tm1098060                      Shadow Parties  MOVIE   \n",
              "5805   ts271048  Mighty Little Bheem: Kite Festival   SHOW   \n",
              "\n",
              "                                            description  release_year  \\\n",
              "5801  A beautiful love story that can happen between...          2021   \n",
              "5802  Rising star Edis's career journey with ups and...          2021   \n",
              "5803  A man from Nigeria returns to his family in Ca...          2021   \n",
              "5804  A family faces destruction in a long-running c...          2021   \n",
              "5805  With winter behind them, Bheem and his townspe...          2021   \n",
              "\n",
              "     age_certification  runtime                             genres  \\\n",
              "5801               NaN      100               ['romance', 'drama']   \n",
              "5802               NaN       74         ['music', 'documentation']   \n",
              "5803               NaN       88                ['family', 'drama']   \n",
              "5804               NaN      116             ['action', 'thriller']   \n",
              "5805               NaN        0  ['family', 'comedy', 'animation']   \n",
              "\n",
              "     production_countries  seasons     imdb_id  imdb_score  imdb_votes  \\\n",
              "5801               ['NG']      NaN  tt13857480         6.9        39.0   \n",
              "5802                   []      NaN         NaN         NaN         NaN   \n",
              "5803         ['NG', 'CA']      NaN  tt14620732         6.5        32.0   \n",
              "5804                   []      NaN  tt10168094         6.2         9.0   \n",
              "5805                   []      1.0  tt13711094         8.8        16.0   \n",
              "\n",
              "      tmdb_popularity  tmdb_score  \n",
              "5801            0.966         NaN  \n",
              "5802            1.036         8.5  \n",
              "5803            0.709         NaN  \n",
              "5804            2.186         NaN  \n",
              "5805            0.979        10.0  "
            ],
            "text/html": [
              "\n",
              "  <div id=\"df-ecc59b2d-209e-4bbb-bf6e-fae93568b43a\">\n",
              "    <div class=\"colab-df-container\">\n",
              "      <div>\n",
              "<style scoped>\n",
              "    .dataframe tbody tr th:only-of-type {\n",
              "        vertical-align: middle;\n",
              "    }\n",
              "\n",
              "    .dataframe tbody tr th {\n",
              "        vertical-align: top;\n",
              "    }\n",
              "\n",
              "    .dataframe thead th {\n",
              "        text-align: right;\n",
              "    }\n",
              "</style>\n",
              "<table border=\"1\" class=\"dataframe\">\n",
              "  <thead>\n",
              "    <tr style=\"text-align: right;\">\n",
              "      <th></th>\n",
              "      <th>id</th>\n",
              "      <th>title</th>\n",
              "      <th>type</th>\n",
              "      <th>description</th>\n",
              "      <th>release_year</th>\n",
              "      <th>age_certification</th>\n",
              "      <th>runtime</th>\n",
              "      <th>genres</th>\n",
              "      <th>production_countries</th>\n",
              "      <th>seasons</th>\n",
              "      <th>imdb_id</th>\n",
              "      <th>imdb_score</th>\n",
              "      <th>imdb_votes</th>\n",
              "      <th>tmdb_popularity</th>\n",
              "      <th>tmdb_score</th>\n",
              "    </tr>\n",
              "  </thead>\n",
              "  <tbody>\n",
              "    <tr>\n",
              "      <th>5801</th>\n",
              "      <td>tm1014599</td>\n",
              "      <td>Fine Wine</td>\n",
              "      <td>MOVIE</td>\n",
              "      <td>A beautiful love story that can happen between...</td>\n",
              "      <td>2021</td>\n",
              "      <td>NaN</td>\n",
              "      <td>100</td>\n",
              "      <td>['romance', 'drama']</td>\n",
              "      <td>['NG']</td>\n",
              "      <td>NaN</td>\n",
              "      <td>tt13857480</td>\n",
              "      <td>6.9</td>\n",
              "      <td>39.0</td>\n",
              "      <td>0.966</td>\n",
              "      <td>NaN</td>\n",
              "    </tr>\n",
              "    <tr>\n",
              "      <th>5802</th>\n",
              "      <td>tm1108171</td>\n",
              "      <td>Edis Starlight</td>\n",
              "      <td>MOVIE</td>\n",
              "      <td>Rising star Edis's career journey with ups and...</td>\n",
              "      <td>2021</td>\n",
              "      <td>NaN</td>\n",
              "      <td>74</td>\n",
              "      <td>['music', 'documentation']</td>\n",
              "      <td>[]</td>\n",
              "      <td>NaN</td>\n",
              "      <td>NaN</td>\n",
              "      <td>NaN</td>\n",
              "      <td>NaN</td>\n",
              "      <td>1.036</td>\n",
              "      <td>8.5</td>\n",
              "    </tr>\n",
              "    <tr>\n",
              "      <th>5803</th>\n",
              "      <td>tm1045018</td>\n",
              "      <td>Clash</td>\n",
              "      <td>MOVIE</td>\n",
              "      <td>A man from Nigeria returns to his family in Ca...</td>\n",
              "      <td>2021</td>\n",
              "      <td>NaN</td>\n",
              "      <td>88</td>\n",
              "      <td>['family', 'drama']</td>\n",
              "      <td>['NG', 'CA']</td>\n",
              "      <td>NaN</td>\n",
              "      <td>tt14620732</td>\n",
              "      <td>6.5</td>\n",
              "      <td>32.0</td>\n",
              "      <td>0.709</td>\n",
              "      <td>NaN</td>\n",
              "    </tr>\n",
              "    <tr>\n",
              "      <th>5804</th>\n",
              "      <td>tm1098060</td>\n",
              "      <td>Shadow Parties</td>\n",
              "      <td>MOVIE</td>\n",
              "      <td>A family faces destruction in a long-running c...</td>\n",
              "      <td>2021</td>\n",
              "      <td>NaN</td>\n",
              "      <td>116</td>\n",
              "      <td>['action', 'thriller']</td>\n",
              "      <td>[]</td>\n",
              "      <td>NaN</td>\n",
              "      <td>tt10168094</td>\n",
              "      <td>6.2</td>\n",
              "      <td>9.0</td>\n",
              "      <td>2.186</td>\n",
              "      <td>NaN</td>\n",
              "    </tr>\n",
              "    <tr>\n",
              "      <th>5805</th>\n",
              "      <td>ts271048</td>\n",
              "      <td>Mighty Little Bheem: Kite Festival</td>\n",
              "      <td>SHOW</td>\n",
              "      <td>With winter behind them, Bheem and his townspe...</td>\n",
              "      <td>2021</td>\n",
              "      <td>NaN</td>\n",
              "      <td>0</td>\n",
              "      <td>['family', 'comedy', 'animation']</td>\n",
              "      <td>[]</td>\n",
              "      <td>1.0</td>\n",
              "      <td>tt13711094</td>\n",
              "      <td>8.8</td>\n",
              "      <td>16.0</td>\n",
              "      <td>0.979</td>\n",
              "      <td>10.0</td>\n",
              "    </tr>\n",
              "  </tbody>\n",
              "</table>\n",
              "</div>\n",
              "      <button class=\"colab-df-convert\" onclick=\"convertToInteractive('df-ecc59b2d-209e-4bbb-bf6e-fae93568b43a')\"\n",
              "              title=\"Convert this dataframe to an interactive table.\"\n",
              "              style=\"display:none;\">\n",
              "        \n",
              "  <svg xmlns=\"http://www.w3.org/2000/svg\" height=\"24px\"viewBox=\"0 0 24 24\"\n",
              "       width=\"24px\">\n",
              "    <path d=\"M0 0h24v24H0V0z\" fill=\"none\"/>\n",
              "    <path d=\"M18.56 5.44l.94 2.06.94-2.06 2.06-.94-2.06-.94-.94-2.06-.94 2.06-2.06.94zm-11 1L8.5 8.5l.94-2.06 2.06-.94-2.06-.94L8.5 2.5l-.94 2.06-2.06.94zm10 10l.94 2.06.94-2.06 2.06-.94-2.06-.94-.94-2.06-.94 2.06-2.06.94z\"/><path d=\"M17.41 7.96l-1.37-1.37c-.4-.4-.92-.59-1.43-.59-.52 0-1.04.2-1.43.59L10.3 9.45l-7.72 7.72c-.78.78-.78 2.05 0 2.83L4 21.41c.39.39.9.59 1.41.59.51 0 1.02-.2 1.41-.59l7.78-7.78 2.81-2.81c.8-.78.8-2.07 0-2.86zM5.41 20L4 18.59l7.72-7.72 1.47 1.35L5.41 20z\"/>\n",
              "  </svg>\n",
              "      </button>\n",
              "      \n",
              "  <style>\n",
              "    .colab-df-container {\n",
              "      display:flex;\n",
              "      flex-wrap:wrap;\n",
              "      gap: 12px;\n",
              "    }\n",
              "\n",
              "    .colab-df-convert {\n",
              "      background-color: #E8F0FE;\n",
              "      border: none;\n",
              "      border-radius: 50%;\n",
              "      cursor: pointer;\n",
              "      display: none;\n",
              "      fill: #1967D2;\n",
              "      height: 32px;\n",
              "      padding: 0 0 0 0;\n",
              "      width: 32px;\n",
              "    }\n",
              "\n",
              "    .colab-df-convert:hover {\n",
              "      background-color: #E2EBFA;\n",
              "      box-shadow: 0px 1px 2px rgba(60, 64, 67, 0.3), 0px 1px 3px 1px rgba(60, 64, 67, 0.15);\n",
              "      fill: #174EA6;\n",
              "    }\n",
              "\n",
              "    [theme=dark] .colab-df-convert {\n",
              "      background-color: #3B4455;\n",
              "      fill: #D2E3FC;\n",
              "    }\n",
              "\n",
              "    [theme=dark] .colab-df-convert:hover {\n",
              "      background-color: #434B5C;\n",
              "      box-shadow: 0px 1px 3px 1px rgba(0, 0, 0, 0.15);\n",
              "      filter: drop-shadow(0px 1px 2px rgba(0, 0, 0, 0.3));\n",
              "      fill: #FFFFFF;\n",
              "    }\n",
              "  </style>\n",
              "\n",
              "      <script>\n",
              "        const buttonEl =\n",
              "          document.querySelector('#df-ecc59b2d-209e-4bbb-bf6e-fae93568b43a button.colab-df-convert');\n",
              "        buttonEl.style.display =\n",
              "          google.colab.kernel.accessAllowed ? 'block' : 'none';\n",
              "\n",
              "        async function convertToInteractive(key) {\n",
              "          const element = document.querySelector('#df-ecc59b2d-209e-4bbb-bf6e-fae93568b43a');\n",
              "          const dataTable =\n",
              "            await google.colab.kernel.invokeFunction('convertToInteractive',\n",
              "                                                     [key], {});\n",
              "          if (!dataTable) return;\n",
              "\n",
              "          const docLinkHtml = 'Like what you see? Visit the ' +\n",
              "            '<a target=\"_blank\" href=https://colab.research.google.com/notebooks/data_table.ipynb>data table notebook</a>'\n",
              "            + ' to learn more about interactive tables.';\n",
              "          element.innerHTML = '';\n",
              "          dataTable['output_type'] = 'display_data';\n",
              "          await google.colab.output.renderOutput(dataTable, element);\n",
              "          const docLink = document.createElement('div');\n",
              "          docLink.innerHTML = docLinkHtml;\n",
              "          element.appendChild(docLink);\n",
              "        }\n",
              "      </script>\n",
              "    </div>\n",
              "  </div>\n",
              "  "
            ]
          },
          "metadata": {},
          "execution_count": 7
        }
      ]
    },
    {
      "cell_type": "code",
      "source": [
        "df.info()"
      ],
      "metadata": {
        "colab": {
          "base_uri": "https://localhost:8080/"
        },
        "id": "Bk4kltEZuaKK",
        "outputId": "44d41f9a-07e4-44b9-f645-7ead4ec306ee"
      },
      "execution_count": 8,
      "outputs": [
        {
          "output_type": "stream",
          "name": "stdout",
          "text": [
            "<class 'pandas.core.frame.DataFrame'>\n",
            "RangeIndex: 5806 entries, 0 to 5805\n",
            "Data columns (total 15 columns):\n",
            " #   Column                Non-Null Count  Dtype  \n",
            "---  ------                --------------  -----  \n",
            " 0   id                    5806 non-null   object \n",
            " 1   title                 5805 non-null   object \n",
            " 2   type                  5806 non-null   object \n",
            " 3   description           5788 non-null   object \n",
            " 4   release_year          5806 non-null   int64  \n",
            " 5   age_certification     3196 non-null   object \n",
            " 6   runtime               5806 non-null   int64  \n",
            " 7   genres                5806 non-null   object \n",
            " 8   production_countries  5806 non-null   object \n",
            " 9   seasons               2047 non-null   float64\n",
            " 10  imdb_id               5362 non-null   object \n",
            " 11  imdb_score            5283 non-null   float64\n",
            " 12  imdb_votes            5267 non-null   float64\n",
            " 13  tmdb_popularity       5712 non-null   float64\n",
            " 14  tmdb_score            5488 non-null   float64\n",
            "dtypes: float64(5), int64(2), object(8)\n",
            "memory usage: 680.5+ KB\n"
          ]
        }
      ]
    },
    {
      "cell_type": "code",
      "source": [
        "df.describe()"
      ],
      "metadata": {
        "colab": {
          "base_uri": "https://localhost:8080/",
          "height": 300
        },
        "id": "HUyGVILBucjy",
        "outputId": "f4d40f8f-05d4-45dd-8d82-de391fde33b3"
      },
      "execution_count": 9,
      "outputs": [
        {
          "output_type": "execute_result",
          "data": {
            "text/plain": [
              "       release_year      runtime      seasons   imdb_score    imdb_votes  \\\n",
              "count   5806.000000  5806.000000  2047.000000  5283.000000  5.267000e+03   \n",
              "mean    2016.013434    77.643989     2.165608     6.533447  2.340719e+04   \n",
              "std        7.324883    39.474160     2.636207     1.160932  8.713432e+04   \n",
              "min     1945.000000     0.000000     1.000000     1.500000  5.000000e+00   \n",
              "25%     2015.000000    44.000000     1.000000     5.800000  5.210000e+02   \n",
              "50%     2018.000000    84.000000     1.000000     6.600000  2.279000e+03   \n",
              "75%     2020.000000   105.000000     2.000000     7.400000  1.014400e+04   \n",
              "max     2022.000000   251.000000    42.000000     9.600000  2.268288e+06   \n",
              "\n",
              "       tmdb_popularity   tmdb_score  \n",
              "count      5712.000000  5488.000000  \n",
              "mean         22.525660     6.818039  \n",
              "std          68.849177     1.171560  \n",
              "min           0.009442     0.500000  \n",
              "25%           3.155250     6.100000  \n",
              "50%           7.478000     6.900000  \n",
              "75%          17.775750     7.500000  \n",
              "max        1823.374000    10.000000  "
            ],
            "text/html": [
              "\n",
              "  <div id=\"df-cc328170-148a-4966-b3b5-1de79e09c781\">\n",
              "    <div class=\"colab-df-container\">\n",
              "      <div>\n",
              "<style scoped>\n",
              "    .dataframe tbody tr th:only-of-type {\n",
              "        vertical-align: middle;\n",
              "    }\n",
              "\n",
              "    .dataframe tbody tr th {\n",
              "        vertical-align: top;\n",
              "    }\n",
              "\n",
              "    .dataframe thead th {\n",
              "        text-align: right;\n",
              "    }\n",
              "</style>\n",
              "<table border=\"1\" class=\"dataframe\">\n",
              "  <thead>\n",
              "    <tr style=\"text-align: right;\">\n",
              "      <th></th>\n",
              "      <th>release_year</th>\n",
              "      <th>runtime</th>\n",
              "      <th>seasons</th>\n",
              "      <th>imdb_score</th>\n",
              "      <th>imdb_votes</th>\n",
              "      <th>tmdb_popularity</th>\n",
              "      <th>tmdb_score</th>\n",
              "    </tr>\n",
              "  </thead>\n",
              "  <tbody>\n",
              "    <tr>\n",
              "      <th>count</th>\n",
              "      <td>5806.000000</td>\n",
              "      <td>5806.000000</td>\n",
              "      <td>2047.000000</td>\n",
              "      <td>5283.000000</td>\n",
              "      <td>5.267000e+03</td>\n",
              "      <td>5712.000000</td>\n",
              "      <td>5488.000000</td>\n",
              "    </tr>\n",
              "    <tr>\n",
              "      <th>mean</th>\n",
              "      <td>2016.013434</td>\n",
              "      <td>77.643989</td>\n",
              "      <td>2.165608</td>\n",
              "      <td>6.533447</td>\n",
              "      <td>2.340719e+04</td>\n",
              "      <td>22.525660</td>\n",
              "      <td>6.818039</td>\n",
              "    </tr>\n",
              "    <tr>\n",
              "      <th>std</th>\n",
              "      <td>7.324883</td>\n",
              "      <td>39.474160</td>\n",
              "      <td>2.636207</td>\n",
              "      <td>1.160932</td>\n",
              "      <td>8.713432e+04</td>\n",
              "      <td>68.849177</td>\n",
              "      <td>1.171560</td>\n",
              "    </tr>\n",
              "    <tr>\n",
              "      <th>min</th>\n",
              "      <td>1945.000000</td>\n",
              "      <td>0.000000</td>\n",
              "      <td>1.000000</td>\n",
              "      <td>1.500000</td>\n",
              "      <td>5.000000e+00</td>\n",
              "      <td>0.009442</td>\n",
              "      <td>0.500000</td>\n",
              "    </tr>\n",
              "    <tr>\n",
              "      <th>25%</th>\n",
              "      <td>2015.000000</td>\n",
              "      <td>44.000000</td>\n",
              "      <td>1.000000</td>\n",
              "      <td>5.800000</td>\n",
              "      <td>5.210000e+02</td>\n",
              "      <td>3.155250</td>\n",
              "      <td>6.100000</td>\n",
              "    </tr>\n",
              "    <tr>\n",
              "      <th>50%</th>\n",
              "      <td>2018.000000</td>\n",
              "      <td>84.000000</td>\n",
              "      <td>1.000000</td>\n",
              "      <td>6.600000</td>\n",
              "      <td>2.279000e+03</td>\n",
              "      <td>7.478000</td>\n",
              "      <td>6.900000</td>\n",
              "    </tr>\n",
              "    <tr>\n",
              "      <th>75%</th>\n",
              "      <td>2020.000000</td>\n",
              "      <td>105.000000</td>\n",
              "      <td>2.000000</td>\n",
              "      <td>7.400000</td>\n",
              "      <td>1.014400e+04</td>\n",
              "      <td>17.775750</td>\n",
              "      <td>7.500000</td>\n",
              "    </tr>\n",
              "    <tr>\n",
              "      <th>max</th>\n",
              "      <td>2022.000000</td>\n",
              "      <td>251.000000</td>\n",
              "      <td>42.000000</td>\n",
              "      <td>9.600000</td>\n",
              "      <td>2.268288e+06</td>\n",
              "      <td>1823.374000</td>\n",
              "      <td>10.000000</td>\n",
              "    </tr>\n",
              "  </tbody>\n",
              "</table>\n",
              "</div>\n",
              "      <button class=\"colab-df-convert\" onclick=\"convertToInteractive('df-cc328170-148a-4966-b3b5-1de79e09c781')\"\n",
              "              title=\"Convert this dataframe to an interactive table.\"\n",
              "              style=\"display:none;\">\n",
              "        \n",
              "  <svg xmlns=\"http://www.w3.org/2000/svg\" height=\"24px\"viewBox=\"0 0 24 24\"\n",
              "       width=\"24px\">\n",
              "    <path d=\"M0 0h24v24H0V0z\" fill=\"none\"/>\n",
              "    <path d=\"M18.56 5.44l.94 2.06.94-2.06 2.06-.94-2.06-.94-.94-2.06-.94 2.06-2.06.94zm-11 1L8.5 8.5l.94-2.06 2.06-.94-2.06-.94L8.5 2.5l-.94 2.06-2.06.94zm10 10l.94 2.06.94-2.06 2.06-.94-2.06-.94-.94-2.06-.94 2.06-2.06.94z\"/><path d=\"M17.41 7.96l-1.37-1.37c-.4-.4-.92-.59-1.43-.59-.52 0-1.04.2-1.43.59L10.3 9.45l-7.72 7.72c-.78.78-.78 2.05 0 2.83L4 21.41c.39.39.9.59 1.41.59.51 0 1.02-.2 1.41-.59l7.78-7.78 2.81-2.81c.8-.78.8-2.07 0-2.86zM5.41 20L4 18.59l7.72-7.72 1.47 1.35L5.41 20z\"/>\n",
              "  </svg>\n",
              "      </button>\n",
              "      \n",
              "  <style>\n",
              "    .colab-df-container {\n",
              "      display:flex;\n",
              "      flex-wrap:wrap;\n",
              "      gap: 12px;\n",
              "    }\n",
              "\n",
              "    .colab-df-convert {\n",
              "      background-color: #E8F0FE;\n",
              "      border: none;\n",
              "      border-radius: 50%;\n",
              "      cursor: pointer;\n",
              "      display: none;\n",
              "      fill: #1967D2;\n",
              "      height: 32px;\n",
              "      padding: 0 0 0 0;\n",
              "      width: 32px;\n",
              "    }\n",
              "\n",
              "    .colab-df-convert:hover {\n",
              "      background-color: #E2EBFA;\n",
              "      box-shadow: 0px 1px 2px rgba(60, 64, 67, 0.3), 0px 1px 3px 1px rgba(60, 64, 67, 0.15);\n",
              "      fill: #174EA6;\n",
              "    }\n",
              "\n",
              "    [theme=dark] .colab-df-convert {\n",
              "      background-color: #3B4455;\n",
              "      fill: #D2E3FC;\n",
              "    }\n",
              "\n",
              "    [theme=dark] .colab-df-convert:hover {\n",
              "      background-color: #434B5C;\n",
              "      box-shadow: 0px 1px 3px 1px rgba(0, 0, 0, 0.15);\n",
              "      filter: drop-shadow(0px 1px 2px rgba(0, 0, 0, 0.3));\n",
              "      fill: #FFFFFF;\n",
              "    }\n",
              "  </style>\n",
              "\n",
              "      <script>\n",
              "        const buttonEl =\n",
              "          document.querySelector('#df-cc328170-148a-4966-b3b5-1de79e09c781 button.colab-df-convert');\n",
              "        buttonEl.style.display =\n",
              "          google.colab.kernel.accessAllowed ? 'block' : 'none';\n",
              "\n",
              "        async function convertToInteractive(key) {\n",
              "          const element = document.querySelector('#df-cc328170-148a-4966-b3b5-1de79e09c781');\n",
              "          const dataTable =\n",
              "            await google.colab.kernel.invokeFunction('convertToInteractive',\n",
              "                                                     [key], {});\n",
              "          if (!dataTable) return;\n",
              "\n",
              "          const docLinkHtml = 'Like what you see? Visit the ' +\n",
              "            '<a target=\"_blank\" href=https://colab.research.google.com/notebooks/data_table.ipynb>data table notebook</a>'\n",
              "            + ' to learn more about interactive tables.';\n",
              "          element.innerHTML = '';\n",
              "          dataTable['output_type'] = 'display_data';\n",
              "          await google.colab.output.renderOutput(dataTable, element);\n",
              "          const docLink = document.createElement('div');\n",
              "          docLink.innerHTML = docLinkHtml;\n",
              "          element.appendChild(docLink);\n",
              "        }\n",
              "      </script>\n",
              "    </div>\n",
              "  </div>\n",
              "  "
            ]
          },
          "metadata": {},
          "execution_count": 9
        }
      ]
    },
    {
      "cell_type": "code",
      "source": [
        "df.shape"
      ],
      "metadata": {
        "colab": {
          "base_uri": "https://localhost:8080/"
        },
        "id": "cqvLbNblugc1",
        "outputId": "89a0a7eb-e41d-42ca-b53f-f1e2a1c6cb2d"
      },
      "execution_count": 10,
      "outputs": [
        {
          "output_type": "execute_result",
          "data": {
            "text/plain": [
              "(5806, 15)"
            ]
          },
          "metadata": {},
          "execution_count": 10
        }
      ]
    },
    {
      "cell_type": "code",
      "source": [
        "df.isnull().sum()"
      ],
      "metadata": {
        "colab": {
          "base_uri": "https://localhost:8080/"
        },
        "id": "lN9zL4dNuiJ_",
        "outputId": "3c0b5e82-baa9-4c90-e487-8de2588dcaba"
      },
      "execution_count": 11,
      "outputs": [
        {
          "output_type": "execute_result",
          "data": {
            "text/plain": [
              "id                         0\n",
              "title                      1\n",
              "type                       0\n",
              "description               18\n",
              "release_year               0\n",
              "age_certification       2610\n",
              "runtime                    0\n",
              "genres                     0\n",
              "production_countries       0\n",
              "seasons                 3759\n",
              "imdb_id                  444\n",
              "imdb_score               523\n",
              "imdb_votes               539\n",
              "tmdb_popularity           94\n",
              "tmdb_score               318\n",
              "dtype: int64"
            ]
          },
          "metadata": {},
          "execution_count": 11
        }
      ]
    },
    {
      "cell_type": "code",
      "source": [
        "df['description'].unique()"
      ],
      "metadata": {
        "colab": {
          "base_uri": "https://localhost:8080/"
        },
        "id": "CMiQjHqhY9wM",
        "outputId": "623d3533-4cf4-4692-8695-a83515b66884"
      },
      "execution_count": 12,
      "outputs": [
        {
          "output_type": "execute_result",
          "data": {
            "text/plain": [
              "array(['This collection includes 12 World War II-era propaganda films — many of which are graphic and offensive — discussed in the docuseries \"Five Came Back.\"',\n",
              "       'A mentally unstable Vietnam War veteran works as a night-time taxi driver in New York City where the perceived decadence and sleaze feed his urge for violent action, attempting to save a preadolescent prostitute in the process.',\n",
              "       'King Arthur, accompanied by his squire, recruits his Knights of the Round Table, including Sir Bedevere the Wise, Sir Lancelot the Brave, Sir Robin the Not-Quite-So-Brave-As-Sir-Lancelot and Sir Galahad the Pure. On the way, Arthur battles the Black Knight who, despite having had all his limbs chopped off, insists he can still fight. They reach Camelot, but Arthur decides not  to enter, as \"it is a silly place\".',\n",
              "       ...,\n",
              "       'A man from Nigeria returns to his family in Canada and discovers that Western culture has changed his children in ways that he does not approve.',\n",
              "       'A family faces destruction in a long-running conflict between communities that pits relatives against each other amid attacks and reprisals.',\n",
              "       'With winter behind them, Bheem and his townspeople usher in a sunny new season in all their favorite ways during the Makar Sankranti festival.'],\n",
              "      dtype=object)"
            ]
          },
          "metadata": {},
          "execution_count": 12
        }
      ]
    },
    {
      "cell_type": "code",
      "source": [
        "df['description'].value_counts()"
      ],
      "metadata": {
        "colab": {
          "base_uri": "https://localhost:8080/"
        },
        "id": "6imbBufsYh1t",
        "outputId": "36dd5415-36c5-48e8-d716-56b7f69d7a2e"
      },
      "execution_count": 13,
      "outputs": [
        {
          "output_type": "execute_result",
          "data": {
            "text/plain": [
              "Five families struggle with the ups and downs of cancer treatment over the course of six years.                                                                                                                                                                                                                                                                                                                                                 2\n",
              "Away from school, during the winter holidays, three new stories take place while the Las Encinas students celebrate Christmas.                                                                                                                                                                                                                                                                                                                  2\n",
              "Marta may be an orphan, and she may be affected by a lethal illness, yet she is the most positive person one can meet. She wants a boy to fall for her. Not any boy - the most handsome of them all. One day, she may have found her match.                                                                                                                                                                                                     2\n",
              "A commentary on Spanish society dressed as a thriller about the misadventures of a gang of young petty criminals after the real estate crash.                                                                                                                                                                                                                                                                                                   1\n",
              "In a small Arctic town struggling with the highest suicide rate in North America, a group of Inuit students' lives are transformed when they are introduced to the sport of lacrosse.                                                                                                                                                                                                                                                           1\n",
              "                                                                                                                                                                                                                                                                                                                                                                                                                                               ..\n",
              "Forced into exile by the English after being crowned King of Scotland, legendary warrior Robert the Bruce fights to reclaim the throne.                                                                                                                                                                                                                                                                                                         1\n",
              "The extraordinary story of how Hollywood changed World War II – and how World War II changed Hollywood, through the interwoven experiences of five legendary filmmakers who went to war to serve their country and bring the truth to the American people: John Ford, William Wyler, John Huston, Frank Capra, and George Stevens. Based on Mark Harris’ best-selling book, “Five Came Back: A Story of Hollywood and the Second World War.”    1\n",
              "A dramatization of the life and death of Montreal mob boss Vito Rizzuto.                                                                                                                                                                                                                                                                                                                                                                        1\n",
              "The account of keepers of the Warsaw Zoo, Jan and Antonina Zabinski, who helped save hundreds of people and animals during the Nazi invasion.                                                                                                                                                                                                                                                                                                   1\n",
              "With winter behind them, Bheem and his townspeople usher in a sunny new season in all their favorite ways during the Makar Sankranti festival.                                                                                                                                                                                                                                                                                                  1\n",
              "Name: description, Length: 5785, dtype: int64"
            ]
          },
          "metadata": {},
          "execution_count": 13
        }
      ]
    },
    {
      "cell_type": "markdown",
      "source": [
        "# **Remove Columns that are not necessary**"
      ],
      "metadata": {
        "id": "pbGIVfYBYirp"
      }
    },
    {
      "cell_type": "code",
      "source": [
        "df.drop(['description','imdb_id','imdb_score','imdb_votes'],axis=1,inplace=True)"
      ],
      "metadata": {
        "id": "pE7rfpxuaFlP"
      },
      "execution_count": 14,
      "outputs": []
    },
    {
      "cell_type": "code",
      "source": [
        "df.head()"
      ],
      "metadata": {
        "colab": {
          "base_uri": "https://localhost:8080/",
          "height": 337
        },
        "id": "tNXROrArawNX",
        "outputId": "935b0110-f693-4614-faaf-f687c98d96d0"
      },
      "execution_count": 15,
      "outputs": [
        {
          "output_type": "execute_result",
          "data": {
            "text/plain": [
              "         id                                title   type  release_year  \\\n",
              "0  ts300399  Five Came Back: The Reference Films   SHOW          1945   \n",
              "1   tm84618                          Taxi Driver  MOVIE          1976   \n",
              "2  tm127384      Monty Python and the Holy Grail  MOVIE          1975   \n",
              "3   tm70993                        Life of Brian  MOVIE          1979   \n",
              "4  tm190788                         The Exorcist  MOVIE          1973   \n",
              "\n",
              "  age_certification  runtime                 genres production_countries  \\\n",
              "0             TV-MA       48      ['documentation']               ['US']   \n",
              "1                 R      113     ['crime', 'drama']               ['US']   \n",
              "2                PG       91  ['comedy', 'fantasy']               ['GB']   \n",
              "3                 R       94             ['comedy']               ['GB']   \n",
              "4                 R      133             ['horror']               ['US']   \n",
              "\n",
              "   seasons  tmdb_popularity  tmdb_score  \n",
              "0      1.0            0.600         NaN  \n",
              "1      NaN           27.612         8.2  \n",
              "2      NaN           18.216         7.8  \n",
              "3      NaN           17.505         7.8  \n",
              "4      NaN           95.337         7.7  "
            ],
            "text/html": [
              "\n",
              "  <div id=\"df-e519c48c-d3b3-4b78-a06f-ecd78c0ed46c\">\n",
              "    <div class=\"colab-df-container\">\n",
              "      <div>\n",
              "<style scoped>\n",
              "    .dataframe tbody tr th:only-of-type {\n",
              "        vertical-align: middle;\n",
              "    }\n",
              "\n",
              "    .dataframe tbody tr th {\n",
              "        vertical-align: top;\n",
              "    }\n",
              "\n",
              "    .dataframe thead th {\n",
              "        text-align: right;\n",
              "    }\n",
              "</style>\n",
              "<table border=\"1\" class=\"dataframe\">\n",
              "  <thead>\n",
              "    <tr style=\"text-align: right;\">\n",
              "      <th></th>\n",
              "      <th>id</th>\n",
              "      <th>title</th>\n",
              "      <th>type</th>\n",
              "      <th>release_year</th>\n",
              "      <th>age_certification</th>\n",
              "      <th>runtime</th>\n",
              "      <th>genres</th>\n",
              "      <th>production_countries</th>\n",
              "      <th>seasons</th>\n",
              "      <th>tmdb_popularity</th>\n",
              "      <th>tmdb_score</th>\n",
              "    </tr>\n",
              "  </thead>\n",
              "  <tbody>\n",
              "    <tr>\n",
              "      <th>0</th>\n",
              "      <td>ts300399</td>\n",
              "      <td>Five Came Back: The Reference Films</td>\n",
              "      <td>SHOW</td>\n",
              "      <td>1945</td>\n",
              "      <td>TV-MA</td>\n",
              "      <td>48</td>\n",
              "      <td>['documentation']</td>\n",
              "      <td>['US']</td>\n",
              "      <td>1.0</td>\n",
              "      <td>0.600</td>\n",
              "      <td>NaN</td>\n",
              "    </tr>\n",
              "    <tr>\n",
              "      <th>1</th>\n",
              "      <td>tm84618</td>\n",
              "      <td>Taxi Driver</td>\n",
              "      <td>MOVIE</td>\n",
              "      <td>1976</td>\n",
              "      <td>R</td>\n",
              "      <td>113</td>\n",
              "      <td>['crime', 'drama']</td>\n",
              "      <td>['US']</td>\n",
              "      <td>NaN</td>\n",
              "      <td>27.612</td>\n",
              "      <td>8.2</td>\n",
              "    </tr>\n",
              "    <tr>\n",
              "      <th>2</th>\n",
              "      <td>tm127384</td>\n",
              "      <td>Monty Python and the Holy Grail</td>\n",
              "      <td>MOVIE</td>\n",
              "      <td>1975</td>\n",
              "      <td>PG</td>\n",
              "      <td>91</td>\n",
              "      <td>['comedy', 'fantasy']</td>\n",
              "      <td>['GB']</td>\n",
              "      <td>NaN</td>\n",
              "      <td>18.216</td>\n",
              "      <td>7.8</td>\n",
              "    </tr>\n",
              "    <tr>\n",
              "      <th>3</th>\n",
              "      <td>tm70993</td>\n",
              "      <td>Life of Brian</td>\n",
              "      <td>MOVIE</td>\n",
              "      <td>1979</td>\n",
              "      <td>R</td>\n",
              "      <td>94</td>\n",
              "      <td>['comedy']</td>\n",
              "      <td>['GB']</td>\n",
              "      <td>NaN</td>\n",
              "      <td>17.505</td>\n",
              "      <td>7.8</td>\n",
              "    </tr>\n",
              "    <tr>\n",
              "      <th>4</th>\n",
              "      <td>tm190788</td>\n",
              "      <td>The Exorcist</td>\n",
              "      <td>MOVIE</td>\n",
              "      <td>1973</td>\n",
              "      <td>R</td>\n",
              "      <td>133</td>\n",
              "      <td>['horror']</td>\n",
              "      <td>['US']</td>\n",
              "      <td>NaN</td>\n",
              "      <td>95.337</td>\n",
              "      <td>7.7</td>\n",
              "    </tr>\n",
              "  </tbody>\n",
              "</table>\n",
              "</div>\n",
              "      <button class=\"colab-df-convert\" onclick=\"convertToInteractive('df-e519c48c-d3b3-4b78-a06f-ecd78c0ed46c')\"\n",
              "              title=\"Convert this dataframe to an interactive table.\"\n",
              "              style=\"display:none;\">\n",
              "        \n",
              "  <svg xmlns=\"http://www.w3.org/2000/svg\" height=\"24px\"viewBox=\"0 0 24 24\"\n",
              "       width=\"24px\">\n",
              "    <path d=\"M0 0h24v24H0V0z\" fill=\"none\"/>\n",
              "    <path d=\"M18.56 5.44l.94 2.06.94-2.06 2.06-.94-2.06-.94-.94-2.06-.94 2.06-2.06.94zm-11 1L8.5 8.5l.94-2.06 2.06-.94-2.06-.94L8.5 2.5l-.94 2.06-2.06.94zm10 10l.94 2.06.94-2.06 2.06-.94-2.06-.94-.94-2.06-.94 2.06-2.06.94z\"/><path d=\"M17.41 7.96l-1.37-1.37c-.4-.4-.92-.59-1.43-.59-.52 0-1.04.2-1.43.59L10.3 9.45l-7.72 7.72c-.78.78-.78 2.05 0 2.83L4 21.41c.39.39.9.59 1.41.59.51 0 1.02-.2 1.41-.59l7.78-7.78 2.81-2.81c.8-.78.8-2.07 0-2.86zM5.41 20L4 18.59l7.72-7.72 1.47 1.35L5.41 20z\"/>\n",
              "  </svg>\n",
              "      </button>\n",
              "      \n",
              "  <style>\n",
              "    .colab-df-container {\n",
              "      display:flex;\n",
              "      flex-wrap:wrap;\n",
              "      gap: 12px;\n",
              "    }\n",
              "\n",
              "    .colab-df-convert {\n",
              "      background-color: #E8F0FE;\n",
              "      border: none;\n",
              "      border-radius: 50%;\n",
              "      cursor: pointer;\n",
              "      display: none;\n",
              "      fill: #1967D2;\n",
              "      height: 32px;\n",
              "      padding: 0 0 0 0;\n",
              "      width: 32px;\n",
              "    }\n",
              "\n",
              "    .colab-df-convert:hover {\n",
              "      background-color: #E2EBFA;\n",
              "      box-shadow: 0px 1px 2px rgba(60, 64, 67, 0.3), 0px 1px 3px 1px rgba(60, 64, 67, 0.15);\n",
              "      fill: #174EA6;\n",
              "    }\n",
              "\n",
              "    [theme=dark] .colab-df-convert {\n",
              "      background-color: #3B4455;\n",
              "      fill: #D2E3FC;\n",
              "    }\n",
              "\n",
              "    [theme=dark] .colab-df-convert:hover {\n",
              "      background-color: #434B5C;\n",
              "      box-shadow: 0px 1px 3px 1px rgba(0, 0, 0, 0.15);\n",
              "      filter: drop-shadow(0px 1px 2px rgba(0, 0, 0, 0.3));\n",
              "      fill: #FFFFFF;\n",
              "    }\n",
              "  </style>\n",
              "\n",
              "      <script>\n",
              "        const buttonEl =\n",
              "          document.querySelector('#df-e519c48c-d3b3-4b78-a06f-ecd78c0ed46c button.colab-df-convert');\n",
              "        buttonEl.style.display =\n",
              "          google.colab.kernel.accessAllowed ? 'block' : 'none';\n",
              "\n",
              "        async function convertToInteractive(key) {\n",
              "          const element = document.querySelector('#df-e519c48c-d3b3-4b78-a06f-ecd78c0ed46c');\n",
              "          const dataTable =\n",
              "            await google.colab.kernel.invokeFunction('convertToInteractive',\n",
              "                                                     [key], {});\n",
              "          if (!dataTable) return;\n",
              "\n",
              "          const docLinkHtml = 'Like what you see? Visit the ' +\n",
              "            '<a target=\"_blank\" href=https://colab.research.google.com/notebooks/data_table.ipynb>data table notebook</a>'\n",
              "            + ' to learn more about interactive tables.';\n",
              "          element.innerHTML = '';\n",
              "          dataTable['output_type'] = 'display_data';\n",
              "          await google.colab.output.renderOutput(dataTable, element);\n",
              "          const docLink = document.createElement('div');\n",
              "          docLink.innerHTML = docLinkHtml;\n",
              "          element.appendChild(docLink);\n",
              "        }\n",
              "      </script>\n",
              "    </div>\n",
              "  </div>\n",
              "  "
            ]
          },
          "metadata": {},
          "execution_count": 15
        }
      ]
    },
    {
      "cell_type": "code",
      "source": [
        "df.isnull().sum()"
      ],
      "metadata": {
        "id": "pBRT_V_WusAV",
        "colab": {
          "base_uri": "https://localhost:8080/"
        },
        "outputId": "2f182f32-9d19-46b0-efc4-d8510fe6a56a"
      },
      "execution_count": 16,
      "outputs": [
        {
          "output_type": "execute_result",
          "data": {
            "text/plain": [
              "id                         0\n",
              "title                      1\n",
              "type                       0\n",
              "release_year               0\n",
              "age_certification       2610\n",
              "runtime                    0\n",
              "genres                     0\n",
              "production_countries       0\n",
              "seasons                 3759\n",
              "tmdb_popularity           94\n",
              "tmdb_score               318\n",
              "dtype: int64"
            ]
          },
          "metadata": {},
          "execution_count": 16
        }
      ]
    },
    {
      "cell_type": "markdown",
      "source": [
        "Remove Null Records"
      ],
      "metadata": {
        "id": "zhi0shzYXcPu"
      }
    },
    {
      "cell_type": "code",
      "source": [
        "df.dropna(axis=0,how = 'any', inplace = True)"
      ],
      "metadata": {
        "id": "Cl5jokJruyfK"
      },
      "execution_count": 17,
      "outputs": []
    },
    {
      "cell_type": "code",
      "source": [
        "df.isnull().sum()"
      ],
      "metadata": {
        "colab": {
          "base_uri": "https://localhost:8080/"
        },
        "id": "D79db-h1brqE",
        "outputId": "c2e4afb0-c131-43cb-9d35-1d07ee533915"
      },
      "execution_count": 18,
      "outputs": [
        {
          "output_type": "execute_result",
          "data": {
            "text/plain": [
              "id                      0\n",
              "title                   0\n",
              "type                    0\n",
              "release_year            0\n",
              "age_certification       0\n",
              "runtime                 0\n",
              "genres                  0\n",
              "production_countries    0\n",
              "seasons                 0\n",
              "tmdb_popularity         0\n",
              "tmdb_score              0\n",
              "dtype: int64"
            ]
          },
          "metadata": {},
          "execution_count": 18
        }
      ]
    },
    {
      "cell_type": "code",
      "source": [
        "df.shape"
      ],
      "metadata": {
        "colab": {
          "base_uri": "https://localhost:8080/"
        },
        "id": "Zr4jUHr-XY3Q",
        "outputId": "bf50b389-641b-4ad8-ac7c-c1753bae3112"
      },
      "execution_count": 19,
      "outputs": [
        {
          "output_type": "execute_result",
          "data": {
            "text/plain": [
              "(1683, 11)"
            ]
          },
          "metadata": {},
          "execution_count": 19
        }
      ]
    },
    {
      "cell_type": "markdown",
      "source": [
        "LOADING THE DATASET"
      ],
      "metadata": {
        "id": "HrqkmNfQcVKw"
      }
    },
    {
      "cell_type": "code",
      "source": [
        "crd = pd.read_csv('/content/credits.csv')"
      ],
      "metadata": {
        "id": "k3-GZKcLa0ac"
      },
      "execution_count": 20,
      "outputs": []
    },
    {
      "cell_type": "markdown",
      "source": [
        "# ***Description of the data***"
      ],
      "metadata": {
        "id": "tTRYRdxWeDH-"
      }
    },
    {
      "cell_type": "markdown",
      "source": [
        "person ID: The person ID on JustWatch.\n",
        "\n",
        "ID: The title ID on JustWatch.\n",
        "\n",
        "name: The actor or director's name.\n",
        "\n",
        "character name: The character name.\n",
        "\n",
        "role: ACTOR or DIRECTOR."
      ],
      "metadata": {
        "id": "pdaNm4XceC-O"
      }
    },
    {
      "cell_type": "code",
      "source": [
        "crd.head()"
      ],
      "metadata": {
        "colab": {
          "base_uri": "https://localhost:8080/",
          "height": 206
        },
        "id": "Kq_JeJTlXljr",
        "outputId": "6f1329d4-18df-49b2-cd0d-1af2ea930b8c"
      },
      "execution_count": 21,
      "outputs": [
        {
          "output_type": "execute_result",
          "data": {
            "text/plain": [
              "   person_id       id             name                character   role\n",
              "0       3748  tm84618   Robert De Niro            Travis Bickle  ACTOR\n",
              "1      14658  tm84618     Jodie Foster            Iris Steensma  ACTOR\n",
              "2       7064  tm84618    Albert Brooks                      Tom  ACTOR\n",
              "3       3739  tm84618    Harvey Keitel  Matthew 'Sport' Higgins  ACTOR\n",
              "4      48933  tm84618  Cybill Shepherd                    Betsy  ACTOR"
            ],
            "text/html": [
              "\n",
              "  <div id=\"df-c9f229aa-47ec-49ec-86e6-ee10048491dc\">\n",
              "    <div class=\"colab-df-container\">\n",
              "      <div>\n",
              "<style scoped>\n",
              "    .dataframe tbody tr th:only-of-type {\n",
              "        vertical-align: middle;\n",
              "    }\n",
              "\n",
              "    .dataframe tbody tr th {\n",
              "        vertical-align: top;\n",
              "    }\n",
              "\n",
              "    .dataframe thead th {\n",
              "        text-align: right;\n",
              "    }\n",
              "</style>\n",
              "<table border=\"1\" class=\"dataframe\">\n",
              "  <thead>\n",
              "    <tr style=\"text-align: right;\">\n",
              "      <th></th>\n",
              "      <th>person_id</th>\n",
              "      <th>id</th>\n",
              "      <th>name</th>\n",
              "      <th>character</th>\n",
              "      <th>role</th>\n",
              "    </tr>\n",
              "  </thead>\n",
              "  <tbody>\n",
              "    <tr>\n",
              "      <th>0</th>\n",
              "      <td>3748</td>\n",
              "      <td>tm84618</td>\n",
              "      <td>Robert De Niro</td>\n",
              "      <td>Travis Bickle</td>\n",
              "      <td>ACTOR</td>\n",
              "    </tr>\n",
              "    <tr>\n",
              "      <th>1</th>\n",
              "      <td>14658</td>\n",
              "      <td>tm84618</td>\n",
              "      <td>Jodie Foster</td>\n",
              "      <td>Iris Steensma</td>\n",
              "      <td>ACTOR</td>\n",
              "    </tr>\n",
              "    <tr>\n",
              "      <th>2</th>\n",
              "      <td>7064</td>\n",
              "      <td>tm84618</td>\n",
              "      <td>Albert Brooks</td>\n",
              "      <td>Tom</td>\n",
              "      <td>ACTOR</td>\n",
              "    </tr>\n",
              "    <tr>\n",
              "      <th>3</th>\n",
              "      <td>3739</td>\n",
              "      <td>tm84618</td>\n",
              "      <td>Harvey Keitel</td>\n",
              "      <td>Matthew 'Sport' Higgins</td>\n",
              "      <td>ACTOR</td>\n",
              "    </tr>\n",
              "    <tr>\n",
              "      <th>4</th>\n",
              "      <td>48933</td>\n",
              "      <td>tm84618</td>\n",
              "      <td>Cybill Shepherd</td>\n",
              "      <td>Betsy</td>\n",
              "      <td>ACTOR</td>\n",
              "    </tr>\n",
              "  </tbody>\n",
              "</table>\n",
              "</div>\n",
              "      <button class=\"colab-df-convert\" onclick=\"convertToInteractive('df-c9f229aa-47ec-49ec-86e6-ee10048491dc')\"\n",
              "              title=\"Convert this dataframe to an interactive table.\"\n",
              "              style=\"display:none;\">\n",
              "        \n",
              "  <svg xmlns=\"http://www.w3.org/2000/svg\" height=\"24px\"viewBox=\"0 0 24 24\"\n",
              "       width=\"24px\">\n",
              "    <path d=\"M0 0h24v24H0V0z\" fill=\"none\"/>\n",
              "    <path d=\"M18.56 5.44l.94 2.06.94-2.06 2.06-.94-2.06-.94-.94-2.06-.94 2.06-2.06.94zm-11 1L8.5 8.5l.94-2.06 2.06-.94-2.06-.94L8.5 2.5l-.94 2.06-2.06.94zm10 10l.94 2.06.94-2.06 2.06-.94-2.06-.94-.94-2.06-.94 2.06-2.06.94z\"/><path d=\"M17.41 7.96l-1.37-1.37c-.4-.4-.92-.59-1.43-.59-.52 0-1.04.2-1.43.59L10.3 9.45l-7.72 7.72c-.78.78-.78 2.05 0 2.83L4 21.41c.39.39.9.59 1.41.59.51 0 1.02-.2 1.41-.59l7.78-7.78 2.81-2.81c.8-.78.8-2.07 0-2.86zM5.41 20L4 18.59l7.72-7.72 1.47 1.35L5.41 20z\"/>\n",
              "  </svg>\n",
              "      </button>\n",
              "      \n",
              "  <style>\n",
              "    .colab-df-container {\n",
              "      display:flex;\n",
              "      flex-wrap:wrap;\n",
              "      gap: 12px;\n",
              "    }\n",
              "\n",
              "    .colab-df-convert {\n",
              "      background-color: #E8F0FE;\n",
              "      border: none;\n",
              "      border-radius: 50%;\n",
              "      cursor: pointer;\n",
              "      display: none;\n",
              "      fill: #1967D2;\n",
              "      height: 32px;\n",
              "      padding: 0 0 0 0;\n",
              "      width: 32px;\n",
              "    }\n",
              "\n",
              "    .colab-df-convert:hover {\n",
              "      background-color: #E2EBFA;\n",
              "      box-shadow: 0px 1px 2px rgba(60, 64, 67, 0.3), 0px 1px 3px 1px rgba(60, 64, 67, 0.15);\n",
              "      fill: #174EA6;\n",
              "    }\n",
              "\n",
              "    [theme=dark] .colab-df-convert {\n",
              "      background-color: #3B4455;\n",
              "      fill: #D2E3FC;\n",
              "    }\n",
              "\n",
              "    [theme=dark] .colab-df-convert:hover {\n",
              "      background-color: #434B5C;\n",
              "      box-shadow: 0px 1px 3px 1px rgba(0, 0, 0, 0.15);\n",
              "      filter: drop-shadow(0px 1px 2px rgba(0, 0, 0, 0.3));\n",
              "      fill: #FFFFFF;\n",
              "    }\n",
              "  </style>\n",
              "\n",
              "      <script>\n",
              "        const buttonEl =\n",
              "          document.querySelector('#df-c9f229aa-47ec-49ec-86e6-ee10048491dc button.colab-df-convert');\n",
              "        buttonEl.style.display =\n",
              "          google.colab.kernel.accessAllowed ? 'block' : 'none';\n",
              "\n",
              "        async function convertToInteractive(key) {\n",
              "          const element = document.querySelector('#df-c9f229aa-47ec-49ec-86e6-ee10048491dc');\n",
              "          const dataTable =\n",
              "            await google.colab.kernel.invokeFunction('convertToInteractive',\n",
              "                                                     [key], {});\n",
              "          if (!dataTable) return;\n",
              "\n",
              "          const docLinkHtml = 'Like what you see? Visit the ' +\n",
              "            '<a target=\"_blank\" href=https://colab.research.google.com/notebooks/data_table.ipynb>data table notebook</a>'\n",
              "            + ' to learn more about interactive tables.';\n",
              "          element.innerHTML = '';\n",
              "          dataTable['output_type'] = 'display_data';\n",
              "          await google.colab.output.renderOutput(dataTable, element);\n",
              "          const docLink = document.createElement('div');\n",
              "          docLink.innerHTML = docLinkHtml;\n",
              "          element.appendChild(docLink);\n",
              "        }\n",
              "      </script>\n",
              "    </div>\n",
              "  </div>\n",
              "  "
            ]
          },
          "metadata": {},
          "execution_count": 21
        }
      ]
    },
    {
      "cell_type": "code",
      "source": [
        "crd.shape"
      ],
      "metadata": {
        "colab": {
          "base_uri": "https://localhost:8080/"
        },
        "id": "x_nEjYSzc9qq",
        "outputId": "ea250080-64b1-4bbf-90c3-6309b029327e"
      },
      "execution_count": 22,
      "outputs": [
        {
          "output_type": "execute_result",
          "data": {
            "text/plain": [
              "(77213, 5)"
            ]
          },
          "metadata": {},
          "execution_count": 22
        }
      ]
    },
    {
      "cell_type": "code",
      "source": [
        "crd.info()"
      ],
      "metadata": {
        "colab": {
          "base_uri": "https://localhost:8080/"
        },
        "id": "KdfjzoMwdDgq",
        "outputId": "2e228d63-1cfd-46bd-f302-d0029d1172d8"
      },
      "execution_count": 23,
      "outputs": [
        {
          "output_type": "stream",
          "name": "stdout",
          "text": [
            "<class 'pandas.core.frame.DataFrame'>\n",
            "RangeIndex: 77213 entries, 0 to 77212\n",
            "Data columns (total 5 columns):\n",
            " #   Column     Non-Null Count  Dtype \n",
            "---  ------     --------------  ----- \n",
            " 0   person_id  77213 non-null  int64 \n",
            " 1   id         77213 non-null  object\n",
            " 2   name       77213 non-null  object\n",
            " 3   character  67586 non-null  object\n",
            " 4   role       77213 non-null  object\n",
            "dtypes: int64(1), object(4)\n",
            "memory usage: 2.9+ MB\n"
          ]
        }
      ]
    },
    {
      "cell_type": "code",
      "source": [
        "crd.describe()"
      ],
      "metadata": {
        "colab": {
          "base_uri": "https://localhost:8080/",
          "height": 300
        },
        "id": "SObvC3dmdJa0",
        "outputId": "5ddcef35-f692-40d7-9934-7cd7e84ee0bf"
      },
      "execution_count": 24,
      "outputs": [
        {
          "output_type": "execute_result",
          "data": {
            "text/plain": [
              "          person_id\n",
              "count  7.721300e+04\n",
              "mean   4.994603e+05\n",
              "std    6.128431e+05\n",
              "min    7.000000e+00\n",
              "25%    4.158400e+04\n",
              "50%    1.829850e+05\n",
              "75%    8.415570e+05\n",
              "max    2.371585e+06"
            ],
            "text/html": [
              "\n",
              "  <div id=\"df-251bdbee-e792-4bde-adc3-5277e8dbd77a\">\n",
              "    <div class=\"colab-df-container\">\n",
              "      <div>\n",
              "<style scoped>\n",
              "    .dataframe tbody tr th:only-of-type {\n",
              "        vertical-align: middle;\n",
              "    }\n",
              "\n",
              "    .dataframe tbody tr th {\n",
              "        vertical-align: top;\n",
              "    }\n",
              "\n",
              "    .dataframe thead th {\n",
              "        text-align: right;\n",
              "    }\n",
              "</style>\n",
              "<table border=\"1\" class=\"dataframe\">\n",
              "  <thead>\n",
              "    <tr style=\"text-align: right;\">\n",
              "      <th></th>\n",
              "      <th>person_id</th>\n",
              "    </tr>\n",
              "  </thead>\n",
              "  <tbody>\n",
              "    <tr>\n",
              "      <th>count</th>\n",
              "      <td>7.721300e+04</td>\n",
              "    </tr>\n",
              "    <tr>\n",
              "      <th>mean</th>\n",
              "      <td>4.994603e+05</td>\n",
              "    </tr>\n",
              "    <tr>\n",
              "      <th>std</th>\n",
              "      <td>6.128431e+05</td>\n",
              "    </tr>\n",
              "    <tr>\n",
              "      <th>min</th>\n",
              "      <td>7.000000e+00</td>\n",
              "    </tr>\n",
              "    <tr>\n",
              "      <th>25%</th>\n",
              "      <td>4.158400e+04</td>\n",
              "    </tr>\n",
              "    <tr>\n",
              "      <th>50%</th>\n",
              "      <td>1.829850e+05</td>\n",
              "    </tr>\n",
              "    <tr>\n",
              "      <th>75%</th>\n",
              "      <td>8.415570e+05</td>\n",
              "    </tr>\n",
              "    <tr>\n",
              "      <th>max</th>\n",
              "      <td>2.371585e+06</td>\n",
              "    </tr>\n",
              "  </tbody>\n",
              "</table>\n",
              "</div>\n",
              "      <button class=\"colab-df-convert\" onclick=\"convertToInteractive('df-251bdbee-e792-4bde-adc3-5277e8dbd77a')\"\n",
              "              title=\"Convert this dataframe to an interactive table.\"\n",
              "              style=\"display:none;\">\n",
              "        \n",
              "  <svg xmlns=\"http://www.w3.org/2000/svg\" height=\"24px\"viewBox=\"0 0 24 24\"\n",
              "       width=\"24px\">\n",
              "    <path d=\"M0 0h24v24H0V0z\" fill=\"none\"/>\n",
              "    <path d=\"M18.56 5.44l.94 2.06.94-2.06 2.06-.94-2.06-.94-.94-2.06-.94 2.06-2.06.94zm-11 1L8.5 8.5l.94-2.06 2.06-.94-2.06-.94L8.5 2.5l-.94 2.06-2.06.94zm10 10l.94 2.06.94-2.06 2.06-.94-2.06-.94-.94-2.06-.94 2.06-2.06.94z\"/><path d=\"M17.41 7.96l-1.37-1.37c-.4-.4-.92-.59-1.43-.59-.52 0-1.04.2-1.43.59L10.3 9.45l-7.72 7.72c-.78.78-.78 2.05 0 2.83L4 21.41c.39.39.9.59 1.41.59.51 0 1.02-.2 1.41-.59l7.78-7.78 2.81-2.81c.8-.78.8-2.07 0-2.86zM5.41 20L4 18.59l7.72-7.72 1.47 1.35L5.41 20z\"/>\n",
              "  </svg>\n",
              "      </button>\n",
              "      \n",
              "  <style>\n",
              "    .colab-df-container {\n",
              "      display:flex;\n",
              "      flex-wrap:wrap;\n",
              "      gap: 12px;\n",
              "    }\n",
              "\n",
              "    .colab-df-convert {\n",
              "      background-color: #E8F0FE;\n",
              "      border: none;\n",
              "      border-radius: 50%;\n",
              "      cursor: pointer;\n",
              "      display: none;\n",
              "      fill: #1967D2;\n",
              "      height: 32px;\n",
              "      padding: 0 0 0 0;\n",
              "      width: 32px;\n",
              "    }\n",
              "\n",
              "    .colab-df-convert:hover {\n",
              "      background-color: #E2EBFA;\n",
              "      box-shadow: 0px 1px 2px rgba(60, 64, 67, 0.3), 0px 1px 3px 1px rgba(60, 64, 67, 0.15);\n",
              "      fill: #174EA6;\n",
              "    }\n",
              "\n",
              "    [theme=dark] .colab-df-convert {\n",
              "      background-color: #3B4455;\n",
              "      fill: #D2E3FC;\n",
              "    }\n",
              "\n",
              "    [theme=dark] .colab-df-convert:hover {\n",
              "      background-color: #434B5C;\n",
              "      box-shadow: 0px 1px 3px 1px rgba(0, 0, 0, 0.15);\n",
              "      filter: drop-shadow(0px 1px 2px rgba(0, 0, 0, 0.3));\n",
              "      fill: #FFFFFF;\n",
              "    }\n",
              "  </style>\n",
              "\n",
              "      <script>\n",
              "        const buttonEl =\n",
              "          document.querySelector('#df-251bdbee-e792-4bde-adc3-5277e8dbd77a button.colab-df-convert');\n",
              "        buttonEl.style.display =\n",
              "          google.colab.kernel.accessAllowed ? 'block' : 'none';\n",
              "\n",
              "        async function convertToInteractive(key) {\n",
              "          const element = document.querySelector('#df-251bdbee-e792-4bde-adc3-5277e8dbd77a');\n",
              "          const dataTable =\n",
              "            await google.colab.kernel.invokeFunction('convertToInteractive',\n",
              "                                                     [key], {});\n",
              "          if (!dataTable) return;\n",
              "\n",
              "          const docLinkHtml = 'Like what you see? Visit the ' +\n",
              "            '<a target=\"_blank\" href=https://colab.research.google.com/notebooks/data_table.ipynb>data table notebook</a>'\n",
              "            + ' to learn more about interactive tables.';\n",
              "          element.innerHTML = '';\n",
              "          dataTable['output_type'] = 'display_data';\n",
              "          await google.colab.output.renderOutput(dataTable, element);\n",
              "          const docLink = document.createElement('div');\n",
              "          docLink.innerHTML = docLinkHtml;\n",
              "          element.appendChild(docLink);\n",
              "        }\n",
              "      </script>\n",
              "    </div>\n",
              "  </div>\n",
              "  "
            ]
          },
          "metadata": {},
          "execution_count": 24
        }
      ]
    },
    {
      "cell_type": "code",
      "source": [
        "crd.isnull().sum()"
      ],
      "metadata": {
        "colab": {
          "base_uri": "https://localhost:8080/"
        },
        "id": "740mmPXedN8I",
        "outputId": "0ee7f060-e322-4be8-f114-a7dc19b6f84b"
      },
      "execution_count": 25,
      "outputs": [
        {
          "output_type": "execute_result",
          "data": {
            "text/plain": [
              "person_id       0\n",
              "id              0\n",
              "name            0\n",
              "character    9627\n",
              "role            0\n",
              "dtype: int64"
            ]
          },
          "metadata": {},
          "execution_count": 25
        }
      ]
    },
    {
      "cell_type": "markdown",
      "source": [
        "**Remove Columns that are not necessary**"
      ],
      "metadata": {
        "id": "DO6tGNoNeu-8"
      }
    },
    {
      "cell_type": "code",
      "source": [
        "crd.drop(['person_id','character'],axis=1,inplace=True)"
      ],
      "metadata": {
        "id": "D5EDylzwdU4E"
      },
      "execution_count": 26,
      "outputs": []
    },
    {
      "cell_type": "code",
      "source": [
        "crd.tail()"
      ],
      "metadata": {
        "colab": {
          "base_uri": "https://localhost:8080/",
          "height": 206
        },
        "id": "XQWeDktHfF2R",
        "outputId": "fc7b8ba3-df75-40f5-a958-174193933c89"
      },
      "execution_count": 27,
      "outputs": [
        {
          "output_type": "execute_result",
          "data": {
            "text/plain": [
              "              id                    name      role\n",
              "77208  tm1098060  Nnenna Rachael Okonkwo     ACTOR\n",
              "77209  tm1098060           Lucien Morgan     ACTOR\n",
              "77210  tm1098060        Magdalena Korpas     ACTOR\n",
              "77211  tm1098060        Mistura Olusanya     ACTOR\n",
              "77212  tm1098060              Yemi Amodu  DIRECTOR"
            ],
            "text/html": [
              "\n",
              "  <div id=\"df-e5a66a82-189a-4740-8cb8-e38d2c153c42\">\n",
              "    <div class=\"colab-df-container\">\n",
              "      <div>\n",
              "<style scoped>\n",
              "    .dataframe tbody tr th:only-of-type {\n",
              "        vertical-align: middle;\n",
              "    }\n",
              "\n",
              "    .dataframe tbody tr th {\n",
              "        vertical-align: top;\n",
              "    }\n",
              "\n",
              "    .dataframe thead th {\n",
              "        text-align: right;\n",
              "    }\n",
              "</style>\n",
              "<table border=\"1\" class=\"dataframe\">\n",
              "  <thead>\n",
              "    <tr style=\"text-align: right;\">\n",
              "      <th></th>\n",
              "      <th>id</th>\n",
              "      <th>name</th>\n",
              "      <th>role</th>\n",
              "    </tr>\n",
              "  </thead>\n",
              "  <tbody>\n",
              "    <tr>\n",
              "      <th>77208</th>\n",
              "      <td>tm1098060</td>\n",
              "      <td>Nnenna Rachael Okonkwo</td>\n",
              "      <td>ACTOR</td>\n",
              "    </tr>\n",
              "    <tr>\n",
              "      <th>77209</th>\n",
              "      <td>tm1098060</td>\n",
              "      <td>Lucien Morgan</td>\n",
              "      <td>ACTOR</td>\n",
              "    </tr>\n",
              "    <tr>\n",
              "      <th>77210</th>\n",
              "      <td>tm1098060</td>\n",
              "      <td>Magdalena Korpas</td>\n",
              "      <td>ACTOR</td>\n",
              "    </tr>\n",
              "    <tr>\n",
              "      <th>77211</th>\n",
              "      <td>tm1098060</td>\n",
              "      <td>Mistura Olusanya</td>\n",
              "      <td>ACTOR</td>\n",
              "    </tr>\n",
              "    <tr>\n",
              "      <th>77212</th>\n",
              "      <td>tm1098060</td>\n",
              "      <td>Yemi Amodu</td>\n",
              "      <td>DIRECTOR</td>\n",
              "    </tr>\n",
              "  </tbody>\n",
              "</table>\n",
              "</div>\n",
              "      <button class=\"colab-df-convert\" onclick=\"convertToInteractive('df-e5a66a82-189a-4740-8cb8-e38d2c153c42')\"\n",
              "              title=\"Convert this dataframe to an interactive table.\"\n",
              "              style=\"display:none;\">\n",
              "        \n",
              "  <svg xmlns=\"http://www.w3.org/2000/svg\" height=\"24px\"viewBox=\"0 0 24 24\"\n",
              "       width=\"24px\">\n",
              "    <path d=\"M0 0h24v24H0V0z\" fill=\"none\"/>\n",
              "    <path d=\"M18.56 5.44l.94 2.06.94-2.06 2.06-.94-2.06-.94-.94-2.06-.94 2.06-2.06.94zm-11 1L8.5 8.5l.94-2.06 2.06-.94-2.06-.94L8.5 2.5l-.94 2.06-2.06.94zm10 10l.94 2.06.94-2.06 2.06-.94-2.06-.94-.94-2.06-.94 2.06-2.06.94z\"/><path d=\"M17.41 7.96l-1.37-1.37c-.4-.4-.92-.59-1.43-.59-.52 0-1.04.2-1.43.59L10.3 9.45l-7.72 7.72c-.78.78-.78 2.05 0 2.83L4 21.41c.39.39.9.59 1.41.59.51 0 1.02-.2 1.41-.59l7.78-7.78 2.81-2.81c.8-.78.8-2.07 0-2.86zM5.41 20L4 18.59l7.72-7.72 1.47 1.35L5.41 20z\"/>\n",
              "  </svg>\n",
              "      </button>\n",
              "      \n",
              "  <style>\n",
              "    .colab-df-container {\n",
              "      display:flex;\n",
              "      flex-wrap:wrap;\n",
              "      gap: 12px;\n",
              "    }\n",
              "\n",
              "    .colab-df-convert {\n",
              "      background-color: #E8F0FE;\n",
              "      border: none;\n",
              "      border-radius: 50%;\n",
              "      cursor: pointer;\n",
              "      display: none;\n",
              "      fill: #1967D2;\n",
              "      height: 32px;\n",
              "      padding: 0 0 0 0;\n",
              "      width: 32px;\n",
              "    }\n",
              "\n",
              "    .colab-df-convert:hover {\n",
              "      background-color: #E2EBFA;\n",
              "      box-shadow: 0px 1px 2px rgba(60, 64, 67, 0.3), 0px 1px 3px 1px rgba(60, 64, 67, 0.15);\n",
              "      fill: #174EA6;\n",
              "    }\n",
              "\n",
              "    [theme=dark] .colab-df-convert {\n",
              "      background-color: #3B4455;\n",
              "      fill: #D2E3FC;\n",
              "    }\n",
              "\n",
              "    [theme=dark] .colab-df-convert:hover {\n",
              "      background-color: #434B5C;\n",
              "      box-shadow: 0px 1px 3px 1px rgba(0, 0, 0, 0.15);\n",
              "      filter: drop-shadow(0px 1px 2px rgba(0, 0, 0, 0.3));\n",
              "      fill: #FFFFFF;\n",
              "    }\n",
              "  </style>\n",
              "\n",
              "      <script>\n",
              "        const buttonEl =\n",
              "          document.querySelector('#df-e5a66a82-189a-4740-8cb8-e38d2c153c42 button.colab-df-convert');\n",
              "        buttonEl.style.display =\n",
              "          google.colab.kernel.accessAllowed ? 'block' : 'none';\n",
              "\n",
              "        async function convertToInteractive(key) {\n",
              "          const element = document.querySelector('#df-e5a66a82-189a-4740-8cb8-e38d2c153c42');\n",
              "          const dataTable =\n",
              "            await google.colab.kernel.invokeFunction('convertToInteractive',\n",
              "                                                     [key], {});\n",
              "          if (!dataTable) return;\n",
              "\n",
              "          const docLinkHtml = 'Like what you see? Visit the ' +\n",
              "            '<a target=\"_blank\" href=https://colab.research.google.com/notebooks/data_table.ipynb>data table notebook</a>'\n",
              "            + ' to learn more about interactive tables.';\n",
              "          element.innerHTML = '';\n",
              "          dataTable['output_type'] = 'display_data';\n",
              "          await google.colab.output.renderOutput(dataTable, element);\n",
              "          const docLink = document.createElement('div');\n",
              "          docLink.innerHTML = docLinkHtml;\n",
              "          element.appendChild(docLink);\n",
              "        }\n",
              "      </script>\n",
              "    </div>\n",
              "  </div>\n",
              "  "
            ]
          },
          "metadata": {},
          "execution_count": 27
        }
      ]
    },
    {
      "cell_type": "markdown",
      "source": [
        "# ***Let's do some Exploratory Data Analysis***"
      ],
      "metadata": {
        "id": "DLXg65LOfNIJ"
      }
    },
    {
      "cell_type": "code",
      "source": [
        "df.columns"
      ],
      "metadata": {
        "colab": {
          "base_uri": "https://localhost:8080/"
        },
        "id": "K2rIzverfJWi",
        "outputId": "6b74f6c3-3b52-4932-f83e-09dfc27f9dbf"
      },
      "execution_count": 28,
      "outputs": [
        {
          "output_type": "execute_result",
          "data": {
            "text/plain": [
              "Index(['id', 'title', 'type', 'release_year', 'age_certification', 'runtime',\n",
              "       'genres', 'production_countries', 'seasons', 'tmdb_popularity',\n",
              "       'tmdb_score'],\n",
              "      dtype='object')"
            ]
          },
          "metadata": {},
          "execution_count": 28
        }
      ]
    },
    {
      "cell_type": "code",
      "source": [
        "crd.columns"
      ],
      "metadata": {
        "colab": {
          "base_uri": "https://localhost:8080/"
        },
        "id": "UdDUqI2zfatu",
        "outputId": "22859478-ad72-460c-e5d5-dd1c61786864"
      },
      "execution_count": 29,
      "outputs": [
        {
          "output_type": "execute_result",
          "data": {
            "text/plain": [
              "Index(['id', 'name', 'role'], dtype='object')"
            ]
          },
          "metadata": {},
          "execution_count": 29
        }
      ]
    },
    {
      "cell_type": "code",
      "source": [
        "df['release_year'].value_counts()"
      ],
      "metadata": {
        "colab": {
          "base_uri": "https://localhost:8080/"
        },
        "id": "Lfj41yC9ff56",
        "outputId": "bdada82c-d7aa-47d4-ad9a-196793f0efcd"
      },
      "execution_count": 30,
      "outputs": [
        {
          "output_type": "execute_result",
          "data": {
            "text/plain": [
              "2018    251\n",
              "2021    250\n",
              "2020    246\n",
              "2019    245\n",
              "2017    152\n",
              "2016    118\n",
              "2022     89\n",
              "2015     81\n",
              "2014     39\n",
              "2013     33\n",
              "2011     27\n",
              "2012     27\n",
              "2009     16\n",
              "2010     14\n",
              "2006     12\n",
              "2008     10\n",
              "2005      8\n",
              "2003      8\n",
              "2007      7\n",
              "2001      5\n",
              "2000      5\n",
              "1998      5\n",
              "2004      4\n",
              "1993      4\n",
              "1999      3\n",
              "1989      3\n",
              "2002      3\n",
              "1994      3\n",
              "1991      2\n",
              "1995      2\n",
              "1997      2\n",
              "1983      1\n",
              "1982      1\n",
              "1984      1\n",
              "1972      1\n",
              "1987      1\n",
              "1981      1\n",
              "1996      1\n",
              "1992      1\n",
              "1969      1\n",
              "Name: release_year, dtype: int64"
            ]
          },
          "metadata": {},
          "execution_count": 30
        }
      ]
    },
    {
      "cell_type": "code",
      "source": [
        "release_year = df['release_year'].value_counts()\n",
        "sns.lineplot(data=release_year)\n",
        "plt.show()"
      ],
      "metadata": {
        "colab": {
          "base_uri": "https://localhost:8080/",
          "height": 265
        },
        "id": "w2V2Zev2f_b0",
        "outputId": "e2ec6557-dd87-4c04-c730-860a67157a0f"
      },
      "execution_count": 31,
      "outputs": [
        {
          "output_type": "display_data",
          "data": {
            "text/plain": [
              "<Figure size 432x288 with 1 Axes>"
            ],
            "image/png": "[encoded data removed]"
          },
          "metadata": {
            "needs_background": "light"
          }
        }
      ]
    },
    {
      "cell_type": "markdown",
      "source": [
        "We can deduce that after 2010, TV series and movies were available."
      ],
      "metadata": {
        "id": "3-RLeuMOgx_u"
      }
    },
    {
      "cell_type": "code",
      "source": [
        "certificate = df['age_certification'].value_counts()\n",
        "certificate.head()"
      ],
      "metadata": {
        "colab": {
          "base_uri": "https://localhost:8080/"
        },
        "id": "dgvOUzmigVS_",
        "outputId": "b55c7bc0-eb06-413e-c0aa-a7d1eac645ab"
      },
      "execution_count": 32,
      "outputs": [
        {
          "output_type": "execute_result",
          "data": {
            "text/plain": [
              "TV-MA    814\n",
              "TV-14    433\n",
              "TV-PG    167\n",
              "TV-Y7    103\n",
              "TV-Y      92\n",
              "Name: age_certification, dtype: int64"
            ]
          },
          "metadata": {},
          "execution_count": 32
        }
      ]
    },
    {
      "cell_type": "code",
      "source": [
        "certificate.plot(kind = 'bar', width =0.8, figsize=(9, 6),color='lightblue')\n",
        "plt.xlabel('Age_Certificate')\n",
        "plt.ylabel('Total')\n",
        "plt.show()"
      ],
      "metadata": {
        "colab": {
          "base_uri": "https://localhost:8080/",
          "height": 410
        },
        "id": "KtaZiStI7jnx",
        "outputId": "21c4f8ac-44fb-439c-ab33-fe9afaf8fc25"
      },
      "execution_count": 33,
      "outputs": [
        {
          "output_type": "display_data",
          "data": {
            "text/plain": [
              "<Figure size 648x432 with 1 Axes>"
            ],
            "image/png": "[encoded data removed]"
          },
          "metadata": {
            "needs_background": "light"
          }
        }
      ]
    },
    {
      "cell_type": "markdown",
      "source": [
        ""
      ],
      "metadata": {
        "id": "r2Vfro5qLmTF"
      }
    },
    {
      "cell_type": "code",
      "source": [
        "df['genres'].nunique()"
      ],
      "metadata": {
        "colab": {
          "base_uri": "https://localhost:8080/"
        },
        "id": "YAfHQWT6Qt9k",
        "outputId": "04635f58-356b-40f4-a5cf-c5a158bf501f"
      },
      "execution_count": 34,
      "outputs": [
        {
          "output_type": "execute_result",
          "data": {
            "text/plain": [
              "709"
            ]
          },
          "metadata": {},
          "execution_count": 34
        }
      ]
    },
    {
      "cell_type": "code",
      "source": [
        "df['production_countries'].nunique()"
      ],
      "metadata": {
        "colab": {
          "base_uri": "https://localhost:8080/"
        },
        "id": "UDX3I8i7Q2U6",
        "outputId": "856e4139-e6f7-4607-c86b-a396818fdc1f"
      },
      "execution_count": 35,
      "outputs": [
        {
          "output_type": "execute_result",
          "data": {
            "text/plain": [
              "95"
            ]
          },
          "metadata": {},
          "execution_count": 35
        }
      ]
    },
    {
      "cell_type": "code",
      "source": [
        "df['production_countries'].value_counts()"
      ],
      "metadata": {
        "colab": {
          "base_uri": "https://localhost:8080/"
        },
        "id": "mu-vK2SnQ2OR",
        "outputId": "a639a9ae-d588-4825-de02-e27304978e23"
      },
      "execution_count": 36,
      "outputs": [
        {
          "output_type": "execute_result",
          "data": {
            "text/plain": [
              "['US']                687\n",
              "['JP']                143\n",
              "['KR']                114\n",
              "['GB']                108\n",
              "['ES']                 54\n",
              "                     ... \n",
              "['NG']                  1\n",
              "['AE']                  1\n",
              "['KR', 'US']            1\n",
              "['AE', 'SA', 'SY']      1\n",
              "['FR', 'IT']            1\n",
              "Name: production_countries, Length: 95, dtype: int64"
            ]
          },
          "metadata": {},
          "execution_count": 36
        }
      ]
    },
    {
      "cell_type": "code",
      "source": [
        "countries=df['production_countries'].value_counts().head(15)\n",
        "countries"
      ],
      "metadata": {
        "colab": {
          "base_uri": "https://localhost:8080/"
        },
        "id": "fRY-m1ygQ2Ft",
        "outputId": "685c9103-79f7-45bc-f2f8-e7923021fec4"
      },
      "execution_count": 37,
      "outputs": [
        {
          "output_type": "execute_result",
          "data": {
            "text/plain": [
              "['US']    687\n",
              "['JP']    143\n",
              "['KR']    114\n",
              "['GB']    108\n",
              "['ES']     54\n",
              "['FR']     45\n",
              "['CA']     41\n",
              "['MX']     39\n",
              "['CN']     39\n",
              "['IN']     29\n",
              "['TW']     28\n",
              "[]         28\n",
              "['BR']     27\n",
              "['AU']     23\n",
              "['CO']     20\n",
              "Name: production_countries, dtype: int64"
            ]
          },
          "metadata": {},
          "execution_count": 37
        }
      ]
    },
    {
      "cell_type": "code",
      "source": [
        "countries.plot(kind = 'bar', width =0.8, figsize=(9, 6),color='black')\n",
        "plt.title('Top 15 countries')\n",
        "plt.xlabel('Countries')\n",
        "plt.ylabel('Production count')\n",
        "plt.show()"
      ],
      "metadata": {
        "colab": {
          "base_uri": "https://localhost:8080/",
          "height": 424
        },
        "id": "Uqx63tcx6XwU",
        "outputId": "60c8eca7-c6ac-4a67-eae6-de7c6c2772d6"
      },
      "execution_count": 38,
      "outputs": [
        {
          "output_type": "display_data",
          "data": {
            "text/plain": [
              "<Figure size 648x432 with 1 Axes>"
            ],
            "image/png": "[encoded data removed]"
          },
          "metadata": {
            "needs_background": "light"
          }
        }
      ]
    },
    {
      "cell_type": "code",
      "source": [
        "# MERGEING OF TWO DATA SETS & REVIEW FIRST 5 ROWS OF DATAFRAME\n",
        "data_titles_credits = pd.merge(df,crd)\n",
        "data_titles_credits.head(5)"
      ],
      "metadata": {
        "colab": {
          "base_uri": "https://localhost:8080/",
          "height": 530
        },
        "id": "_n7CaAhkc36j",
        "outputId": "8bff7020-59cb-4375-e03b-b1a754ca9d16"
      },
      "execution_count": 39,
      "outputs": [
        {
          "output_type": "execute_result",
          "data": {
            "text/plain": [
              "        id                         title  type  release_year  \\\n",
              "0  ts22164  Monty Python's Flying Circus  SHOW          1969   \n",
              "1  ts22164  Monty Python's Flying Circus  SHOW          1969   \n",
              "2  ts22164  Monty Python's Flying Circus  SHOW          1969   \n",
              "3  ts22164  Monty Python's Flying Circus  SHOW          1969   \n",
              "4  ts22164  Monty Python's Flying Circus  SHOW          1969   \n",
              "\n",
              "  age_certification  runtime                  genres production_countries  \\\n",
              "0             TV-14       30  ['comedy', 'european']               ['GB']   \n",
              "1             TV-14       30  ['comedy', 'european']               ['GB']   \n",
              "2             TV-14       30  ['comedy', 'european']               ['GB']   \n",
              "3             TV-14       30  ['comedy', 'european']               ['GB']   \n",
              "4             TV-14       30  ['comedy', 'european']               ['GB']   \n",
              "\n",
              "   seasons  tmdb_popularity  tmdb_score            name   role  \n",
              "0      4.0           12.919         8.3  Graham Chapman  ACTOR  \n",
              "1      4.0           12.919         8.3   Michael Palin  ACTOR  \n",
              "2      4.0           12.919         8.3     Terry Jones  ACTOR  \n",
              "3      4.0           12.919         8.3       Eric Idle  ACTOR  \n",
              "4      4.0           12.919         8.3   Terry Gilliam  ACTOR  "
            ],
            "text/html": [
              "\n",
              "  <div id=\"df-eea2750b-010c-482c-a5df-3a37021a37b7\">\n",
              "    <div class=\"colab-df-container\">\n",
              "      <div>\n",
              "<style scoped>\n",
              "    .dataframe tbody tr th:only-of-type {\n",
              "        vertical-align: middle;\n",
              "    }\n",
              "\n",
              "    .dataframe tbody tr th {\n",
              "        vertical-align: top;\n",
              "    }\n",
              "\n",
              "    .dataframe thead th {\n",
              "        text-align: right;\n",
              "    }\n",
              "</style>\n",
              "<table border=\"1\" class=\"dataframe\">\n",
              "  <thead>\n",
              "    <tr style=\"text-align: right;\">\n",
              "      <th></th>\n",
              "      <th>id</th>\n",
              "      <th>title</th>\n",
              "      <th>type</th>\n",
              "      <th>release_year</th>\n",
              "      <th>age_certification</th>\n",
              "      <th>runtime</th>\n",
              "      <th>genres</th>\n",
              "      <th>production_countries</th>\n",
              "      <th>seasons</th>\n",
              "      <th>tmdb_popularity</th>\n",
              "      <th>tmdb_score</th>\n",
              "      <th>name</th>\n",
              "      <th>role</th>\n",
              "    </tr>\n",
              "  </thead>\n",
              "  <tbody>\n",
              "    <tr>\n",
              "      <th>0</th>\n",
              "      <td>ts22164</td>\n",
              "      <td>Monty Python's Flying Circus</td>\n",
              "      <td>SHOW</td>\n",
              "      <td>1969</td>\n",
              "      <td>TV-14</td>\n",
              "      <td>30</td>\n",
              "      <td>['comedy', 'european']</td>\n",
              "      <td>['GB']</td>\n",
              "      <td>4.0</td>\n",
              "      <td>12.919</td>\n",
              "      <td>8.3</td>\n",
              "      <td>Graham Chapman</td>\n",
              "      <td>ACTOR</td>\n",
              "    </tr>\n",
              "    <tr>\n",
              "      <th>1</th>\n",
              "      <td>ts22164</td>\n",
              "      <td>Monty Python's Flying Circus</td>\n",
              "      <td>SHOW</td>\n",
              "      <td>1969</td>\n",
              "      <td>TV-14</td>\n",
              "      <td>30</td>\n",
              "      <td>['comedy', 'european']</td>\n",
              "      <td>['GB']</td>\n",
              "      <td>4.0</td>\n",
              "      <td>12.919</td>\n",
              "      <td>8.3</td>\n",
              "      <td>Michael Palin</td>\n",
              "      <td>ACTOR</td>\n",
              "    </tr>\n",
              "    <tr>\n",
              "      <th>2</th>\n",
              "      <td>ts22164</td>\n",
              "      <td>Monty Python's Flying Circus</td>\n",
              "      <td>SHOW</td>\n",
              "      <td>1969</td>\n",
              "      <td>TV-14</td>\n",
              "      <td>30</td>\n",
              "      <td>['comedy', 'european']</td>\n",
              "      <td>['GB']</td>\n",
              "      <td>4.0</td>\n",
              "      <td>12.919</td>\n",
              "      <td>8.3</td>\n",
              "      <td>Terry Jones</td>\n",
              "      <td>ACTOR</td>\n",
              "    </tr>\n",
              "    <tr>\n",
              "      <th>3</th>\n",
              "      <td>ts22164</td>\n",
              "      <td>Monty Python's Flying Circus</td>\n",
              "      <td>SHOW</td>\n",
              "      <td>1969</td>\n",
              "      <td>TV-14</td>\n",
              "      <td>30</td>\n",
              "      <td>['comedy', 'european']</td>\n",
              "      <td>['GB']</td>\n",
              "      <td>4.0</td>\n",
              "      <td>12.919</td>\n",
              "      <td>8.3</td>\n",
              "      <td>Eric Idle</td>\n",
              "      <td>ACTOR</td>\n",
              "    </tr>\n",
              "    <tr>\n",
              "      <th>4</th>\n",
              "      <td>ts22164</td>\n",
              "      <td>Monty Python's Flying Circus</td>\n",
              "      <td>SHOW</td>\n",
              "      <td>1969</td>\n",
              "      <td>TV-14</td>\n",
              "      <td>30</td>\n",
              "      <td>['comedy', 'european']</td>\n",
              "      <td>['GB']</td>\n",
              "      <td>4.0</td>\n",
              "      <td>12.919</td>\n",
              "      <td>8.3</td>\n",
              "      <td>Terry Gilliam</td>\n",
              "      <td>ACTOR</td>\n",
              "    </tr>\n",
              "  </tbody>\n",
              "</table>\n",
              "</div>\n",
              "      <button class=\"colab-df-convert\" onclick=\"convertToInteractive('df-eea2750b-010c-482c-a5df-3a37021a37b7')\"\n",
              "              title=\"Convert this dataframe to an interactive table.\"\n",
              "              style=\"display:none;\">\n",
              "        \n",
              "  <svg xmlns=\"http://www.w3.org/2000/svg\" height=\"24px\"viewBox=\"0 0 24 24\"\n",
              "       width=\"24px\">\n",
              "    <path d=\"M0 0h24v24H0V0z\" fill=\"none\"/>\n",
              "    <path d=\"M18.56 5.44l.94 2.06.94-2.06 2.06-.94-2.06-.94-.94-2.06-.94 2.06-2.06.94zm-11 1L8.5 8.5l.94-2.06 2.06-.94-2.06-.94L8.5 2.5l-.94 2.06-2.06.94zm10 10l.94 2.06.94-2.06 2.06-.94-2.06-.94-.94-2.06-.94 2.06-2.06.94z\"/><path d=\"M17.41 7.96l-1.37-1.37c-.4-.4-.92-.59-1.43-.59-.52 0-1.04.2-1.43.59L10.3 9.45l-7.72 7.72c-.78.78-.78 2.05 0 2.83L4 21.41c.39.39.9.59 1.41.59.51 0 1.02-.2 1.41-.59l7.78-7.78 2.81-2.81c.8-.78.8-2.07 0-2.86zM5.41 20L4 18.59l7.72-7.72 1.47 1.35L5.41 20z\"/>\n",
              "  </svg>\n",
              "      </button>\n",
              "      \n",
              "  <style>\n",
              "    .colab-df-container {\n",
              "      display:flex;\n",
              "      flex-wrap:wrap;\n",
              "      gap: 12px;\n",
              "    }\n",
              "\n",
              "    .colab-df-convert {\n",
              "      background-color: #E8F0FE;\n",
              "      border: none;\n",
              "      border-radius: 50%;\n",
              "      cursor: pointer;\n",
              "      display: none;\n",
              "      fill: #1967D2;\n",
              "      height: 32px;\n",
              "      padding: 0 0 0 0;\n",
              "      width: 32px;\n",
              "    }\n",
              "\n",
              "    .colab-df-convert:hover {\n",
              "      background-color: #E2EBFA;\n",
              "      box-shadow: 0px 1px 2px rgba(60, 64, 67, 0.3), 0px 1px 3px 1px rgba(60, 64, 67, 0.15);\n",
              "      fill: #174EA6;\n",
              "    }\n",
              "\n",
              "    [theme=dark] .colab-df-convert {\n",
              "      background-color: #3B4455;\n",
              "      fill: #D2E3FC;\n",
              "    }\n",
              "\n",
              "    [theme=dark] .colab-df-convert:hover {\n",
              "      background-color: #434B5C;\n",
              "      box-shadow: 0px 1px 3px 1px rgba(0, 0, 0, 0.15);\n",
              "      filter: drop-shadow(0px 1px 2px rgba(0, 0, 0, 0.3));\n",
              "      fill: #FFFFFF;\n",
              "    }\n",
              "  </style>\n",
              "\n",
              "      <script>\n",
              "        const buttonEl =\n",
              "          document.querySelector('#df-eea2750b-010c-482c-a5df-3a37021a37b7 button.colab-df-convert');\n",
              "        buttonEl.style.display =\n",
              "          google.colab.kernel.accessAllowed ? 'block' : 'none';\n",
              "\n",
              "        async function convertToInteractive(key) {\n",
              "          const element = document.querySelector('#df-eea2750b-010c-482c-a5df-3a37021a37b7');\n",
              "          const dataTable =\n",
              "            await google.colab.kernel.invokeFunction('convertToInteractive',\n",
              "                                                     [key], {});\n",
              "          if (!dataTable) return;\n",
              "\n",
              "          const docLinkHtml = 'Like what you see? Visit the ' +\n",
              "            '<a target=\"_blank\" href=https://colab.research.google.com/notebooks/data_table.ipynb>data table notebook</a>'\n",
              "            + ' to learn more about interactive tables.';\n",
              "          element.innerHTML = '';\n",
              "          dataTable['output_type'] = 'display_data';\n",
              "          await google.colab.output.renderOutput(dataTable, element);\n",
              "          const docLink = document.createElement('div');\n",
              "          docLink.innerHTML = docLinkHtml;\n",
              "          element.appendChild(docLink);\n",
              "        }\n",
              "      </script>\n",
              "    </div>\n",
              "  </div>\n",
              "  "
            ]
          },
          "metadata": {},
          "execution_count": 39
        }
      ]
    },
    {
      "cell_type": "code",
      "source": [
        "data_titles_credits['role'].unique()"
      ],
      "metadata": {
        "colab": {
          "base_uri": "https://localhost:8080/"
        },
        "id": "yIw5fzbL9w-f",
        "outputId": "758a86e0-3fd0-49c8-c803-0e7fdcfdde8b"
      },
      "execution_count": 41,
      "outputs": [
        {
          "output_type": "execute_result",
          "data": {
            "text/plain": [
              "array(['ACTOR', 'DIRECTOR'], dtype=object)"
            ]
          },
          "metadata": {},
          "execution_count": 41
        }
      ]
    },
    {
      "cell_type": "code",
      "source": [
        "data_titles_credits['role'].value_counts()"
      ],
      "metadata": {
        "colab": {
          "base_uri": "https://localhost:8080/"
        },
        "id": "Ixgzxl1x-XMl",
        "outputId": "dbdcad6f-f24b-4897-d009-f74e74a58c67"
      },
      "execution_count": 42,
      "outputs": [
        {
          "output_type": "execute_result",
          "data": {
            "text/plain": [
              "ACTOR       11598\n",
              "DIRECTOR      501\n",
              "Name: role, dtype: int64"
            ]
          },
          "metadata": {},
          "execution_count": 42
        }
      ]
    },
    {
      "cell_type": "code",
      "source": [
        "plt.figure(figsize = (20,7))\n",
        "sns.catplot(x = 'role', y = 'release_year', data = data_titles_credits)"
      ],
      "metadata": {
        "colab": {
          "base_uri": "https://localhost:8080/",
          "height": 404
        },
        "id": "8iwUhbM6-fSM",
        "outputId": "ea9f3d36-a316-4e5b-8079-6e9ec1d10fc3"
      },
      "execution_count": 43,
      "outputs": [
        {
          "output_type": "execute_result",
          "data": {
            "text/plain": [
              "<seaborn.axisgrid.FacetGrid at 0x7f31f43b7750>"
            ]
          },
          "metadata": {},
          "execution_count": 43
        },
        {
          "output_type": "display_data",
          "data": {
            "text/plain": [
              "<Figure size 1440x504 with 0 Axes>"
            ]
          },
          "metadata": {}
        },
        {
          "output_type": "display_data",
          "data": {
            "text/plain": [
              "<Figure size 360x360 with 1 Axes>"
            ],
            "image/png": "[encoded data removed]"
          },
          "metadata": {
            "needs_background": "light"
          }
        }
      ]
    },
    {
      "cell_type": "code",
      "source": [
        "data_titles_credits.columns"
      ],
      "metadata": {
        "colab": {
          "base_uri": "https://localhost:8080/"
        },
        "id": "sAkPtD4F-92g",
        "outputId": "cbfee1af-2b88-474f-a5ab-b9fbe6e1c15c"
      },
      "execution_count": 44,
      "outputs": [
        {
          "output_type": "execute_result",
          "data": {
            "text/plain": [
              "Index(['id', 'title', 'type', 'release_year', 'age_certification', 'runtime',\n",
              "       'genres', 'production_countries', 'seasons', 'tmdb_popularity',\n",
              "       'tmdb_score', 'name', 'role'],\n",
              "      dtype='object')"
            ]
          },
          "metadata": {},
          "execution_count": 44
        }
      ]
    },
    {
      "cell_type": "code",
      "source": [
        "data_titles_credits['seasons'].unique()"
      ],
      "metadata": {
        "colab": {
          "base_uri": "https://localhost:8080/"
        },
        "id": "wLcXWU-kAgV-",
        "outputId": "5ff9698a-fd25-416d-841c-ee93eff1629c"
      },
      "execution_count": 45,
      "outputs": [
        {
          "output_type": "execute_result",
          "data": {
            "text/plain": [
              "array([ 4.,  1.,  9., 24.,  5., 39., 13., 10., 42., 21.,  7., 37.,  8.,\n",
              "       29., 14.,  6., 11.,  2., 18., 12., 15., 19.,  3.])"
            ]
          },
          "metadata": {},
          "execution_count": 45
        }
      ]
    },
    {
      "cell_type": "code",
      "source": [
        "data_titles_credits['seasons'].value_counts()"
      ],
      "metadata": {
        "colab": {
          "base_uri": "https://localhost:8080/"
        },
        "id": "-IzjWjH9CRiC",
        "outputId": "3a0b3b66-77bf-4492-e335-4584a32d8df4"
      },
      "execution_count": 46,
      "outputs": [
        {
          "output_type": "execute_result",
          "data": {
            "text/plain": [
              "1.0     6875\n",
              "2.0     2247\n",
              "3.0     1077\n",
              "4.0      739\n",
              "5.0      447\n",
              "6.0      284\n",
              "7.0      100\n",
              "8.0       90\n",
              "9.0       54\n",
              "11.0      43\n",
              "10.0      25\n",
              "15.0      21\n",
              "14.0      18\n",
              "13.0      14\n",
              "18.0      13\n",
              "21.0      11\n",
              "12.0      11\n",
              "29.0      10\n",
              "24.0       9\n",
              "19.0       7\n",
              "39.0       2\n",
              "42.0       1\n",
              "37.0       1\n",
              "Name: seasons, dtype: int64"
            ]
          },
          "metadata": {},
          "execution_count": 46
        }
      ]
    },
    {
      "cell_type": "code",
      "source": [
        "data_titles_credits['type'].unique()"
      ],
      "metadata": {
        "colab": {
          "base_uri": "https://localhost:8080/"
        },
        "id": "3GpKVsNaDQkQ",
        "outputId": "b987d7cd-c82f-4ed1-e30d-508e3bbdfbd3"
      },
      "execution_count": 47,
      "outputs": [
        {
          "output_type": "execute_result",
          "data": {
            "text/plain": [
              "array(['SHOW'], dtype=object)"
            ]
          },
          "metadata": {},
          "execution_count": 47
        }
      ]
    },
    {
      "cell_type": "code",
      "source": [
        "plt.figure(figsize = (20,8))\n",
        "sns.lineplot( x = df['seasons'], y = df['runtime'])\n",
        "sns.barplot(x = df['seasons'], y = df['runtime'])"
      ],
      "metadata": {
        "colab": {
          "base_uri": "https://localhost:8080/",
          "height": 512
        },
        "id": "-FxbqJJJCpj-",
        "outputId": "77bc3a0c-0a25-4775-ccfa-8d9de7c2506b"
      },
      "execution_count": 48,
      "outputs": [
        {
          "output_type": "execute_result",
          "data": {
            "text/plain": [
              "<matplotlib.axes._subplots.AxesSubplot at 0x7f31f45e5c90>"
            ]
          },
          "metadata": {},
          "execution_count": 48
        },
        {
          "output_type": "display_data",
          "data": {
            "text/plain": [
              "<Figure size 1440x576 with 1 Axes>"
            ],
            "image/png": "[encoded data removed]"
          },
          "metadata": {
            "needs_background": "light"
          }
        }
      ]
    },
    {
      "cell_type": "code",
      "source": [
        "data_titles_credits['runtime'].unique()"
      ],
      "metadata": {
        "colab": {
          "base_uri": "https://localhost:8080/"
        },
        "id": "j3jEK3D6En0Z",
        "outputId": "63aeb848-5fbe-4826-8773-c65b20256856"
      },
      "execution_count": 49,
      "outputs": [
        {
          "output_type": "execute_result",
          "data": {
            "text/plain": [
              "array([ 30,  43,  24,  51,  10,  23,  26,  15,  48,  44,  22,  25,  47,\n",
              "        40,  46,  28,  21,  19,   9,  49,  58,  57,  45,  42,  52,  29,\n",
              "        27,  64, 141,  11,   6,  55,  35,  18,  61,  14,  17,  20,  72,\n",
              "         3,  67,  56,  59, 225,  37,  53,  54,  41,   2,   5,  60,  90,\n",
              "        13,  73,  63,  62,  32,  50,  92,   7, 122,  71,  95,  97,  65,\n",
              "        31,  69,  70,  16,  36,  84,  87,  39,  34,  33,  86,  76,  79,\n",
              "        68,  75,  80,  66,  38, 108,  78,  12,  83,  89,  85,  88,  74,\n",
              "         8, 199,  82,  96, 178,   0,  93, 131,  81])"
            ]
          },
          "metadata": {},
          "execution_count": 49
        }
      ]
    },
    {
      "cell_type": "code",
      "source": [
        "ax=sns.kdeplot(data=data_titles_credits['runtime'])"
      ],
      "metadata": {
        "colab": {
          "base_uri": "https://localhost:8080/",
          "height": 279
        },
        "id": "TRQrL5fEbucG",
        "outputId": "1be7590d-2bb6-4db1-eb29-53b0b89d5318"
      },
      "execution_count": 67,
      "outputs": [
        {
          "output_type": "display_data",
          "data": {
            "text/plain": [
              "<Figure size 432x288 with 1 Axes>"
            ],
            "image/png": "[encoded data removed]"
          },
          "metadata": {
            "needs_background": "light"
          }
        }
      ]
    },
    {
      "cell_type": "code",
      "source": [
        "data_titles_credits['tmdb_popularity'].unique()"
      ],
      "metadata": {
        "colab": {
          "base_uri": "https://localhost:8080/"
        },
        "id": "84rMIWo0arcR",
        "outputId": "78bda865-ab6b-4b49-9d5e-08a73f1d534a"
      },
      "execution_count": 58,
      "outputs": [
        {
          "output_type": "execute_result",
          "data": {
            "text/plain": [
              "array([ 12.919,   1.49 , 128.743, ...,   6.925,   1.834,   0.959])"
            ]
          },
          "metadata": {},
          "execution_count": 58
        }
      ]
    },
    {
      "cell_type": "code",
      "source": [
        "data_titles_credits['tmdb_score'].unique()"
      ],
      "metadata": {
        "colab": {
          "base_uri": "https://localhost:8080/"
        },
        "id": "KAEs9Ev8WLDf",
        "outputId": "72d5bfec-46f9-452d-b8e4-f5fc5380185f"
      },
      "execution_count": 57,
      "outputs": [
        {
          "output_type": "execute_result",
          "data": {
            "text/plain": [
              "array([ 8.3,  7. ,  7.5,  6.6,  8. ,  6.7,  6.3,  7.3,  7.4,  8.2,  7.6,\n",
              "        8.8,  8.5,  7.9,  7.8,  8.6,  6.2,  5. ,  8.7,  7.7,  8.1,  8.4,\n",
              "        5.3,  7.2,  6.5,  7.1,  6.9,  5.6,  8.9,  9. ,  2.3,  9.2,  6.8,\n",
              "        1. ,  6. ,  5.9,  6.1,  5.5,  5.7,  9.1,  4.9,  6.4,  5.8,  5.4,\n",
              "        5.1, 10. ,  4. ,  9.7,  3.6,  5.2,  2.8,  9.3,  9.4,  4.6,  4.8,\n",
              "        2.7,  9.8,  3.5,  9.5,  9.6,  3. ,  2. ,  4.3])"
            ]
          },
          "metadata": {},
          "execution_count": 57
        }
      ]
    },
    {
      "cell_type": "code",
      "source": [
        "data_titles_credits.columns"
      ],
      "metadata": {
        "colab": {
          "base_uri": "https://localhost:8080/"
        },
        "id": "r2QstYSLe4qK",
        "outputId": "3f97ee79-0056-4ae7-f5aa-3febf6d3db19"
      },
      "execution_count": 73,
      "outputs": [
        {
          "output_type": "execute_result",
          "data": {
            "text/plain": [
              "Index(['id', 'title', 'type', 'release_year', 'age_certification', 'runtime',\n",
              "       'genres', 'production_countries', 'seasons', 'tmdb_popularity',\n",
              "       'tmdb_score', 'name', 'role'],\n",
              "      dtype='object')"
            ]
          },
          "metadata": {},
          "execution_count": 73
        }
      ]
    },
    {
      "cell_type": "code",
      "source": [
        ""
      ],
      "metadata": {
        "id": "XIZSazfraexI"
      },
      "execution_count": 79,
      "outputs": []
    },
    {
      "cell_type": "code",
      "source": [
        ""
      ],
      "metadata": {
        "id": "ILNN0RIBdUAz"
      },
      "execution_count": null,
      "outputs": []
    }
  ]
}